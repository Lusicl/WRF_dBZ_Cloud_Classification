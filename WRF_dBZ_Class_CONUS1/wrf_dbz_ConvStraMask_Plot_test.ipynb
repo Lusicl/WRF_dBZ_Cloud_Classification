{
 "cells": [
  {
   "cell_type": "markdown",
   "id": "869fb837-0d1f-4790-9318-8aff52b75ef9",
   "metadata": {},
   "source": [
    "## Convective/Stratiform Separation Masking for derived 3D dBZ of WRF Simulations. \n",
    "\n",
    "**For [High Resolution WRF Simulations of the Current and Future Climate of North America](https://rda.ucar.edu/datasets/ds612.0/).**\n",
    "\n",
    "**Hungjui Yu 20211008**"
   ]
  },
  {
   "cell_type": "code",
   "execution_count": 46,
   "id": "70de2b4e-ad2a-429f-ad4d-c27561e36fad",
   "metadata": {},
   "outputs": [],
   "source": [
    "import sys\n",
    "from shutil import copyfile\n",
    "import time\n",
    "import datetime as dt\n",
    "import pytz\n",
    "from netCDF4 import (Dataset, MFDataset)\n",
    "import numpy as np\n",
    "from scipy.interpolate import interpn\n",
    "import xarray as xr\n",
    "import pandas as pd\n",
    "import wrf\n",
    "from wrf import (getvar, vinterp, interplevel, extract_times, destagger, to_np, latlon_coords, get_cartopy,\n",
    "                 cartopy_xlim, cartopy_ylim)\n",
    "\n",
    "import cartopy.crs as ccrs\n",
    "import cartopy.feature as cfeat\n",
    "import matplotlib as mpl\n",
    "import matplotlib.pyplot as plt\n",
    "\n",
    "import wrf_convstrat as sep0\n",
    "import conv_strat_latlon as sep1\n",
    "import conv_stra_sep as sep2"
   ]
  },
  {
   "cell_type": "markdown",
   "id": "0ec2d119-65c1-4337-8e32-4f1787d5c049",
   "metadata": {},
   "source": [
    "**Set input files paths and names:**"
   ]
  },
  {
   "cell_type": "code",
   "execution_count": 47,
   "id": "4a6bd4b4-0304-4680-96d7-1dfda1271206",
   "metadata": {},
   "outputs": [],
   "source": [
    "def set_input_names(file_date):\n",
    "\n",
    "    file_path_1 = '/gpfs/fs1/collections/rda/data/ds612.0'\n",
    "    file_path_1_dbz = '/glade/scratch/hungjui/DATA_WRF_CONUS_1_dBZ_v1.0'\n",
    "    file_path_2 = '/' + wrf_sim_type # '/CTRL3D'\n",
    "    file_path_3 = '/{}'.format(file_date.strftime('%Y'))\n",
    "\n",
    "    file_names = dict( dbz = file_path_1_dbz\n",
    "                           + file_path_2 \n",
    "                           + file_path_3 \n",
    "                           + '/wrf3d_d01_' + wrf_sim_type[0:-2] + '_dbz_{}.nc'.format(file_date.strftime('%Y%m%d'))\n",
    "                       , Z = file_path_1 \n",
    "                           + file_path_2 \n",
    "                           + file_path_3 \n",
    "                           + '/wrf3d_d01_' + wrf_sim_type[0:-2] + '_Z_{}.nc'.format(file_date.strftime('%Y%m%d'))\n",
    "                     )\n",
    "    \n",
    "    return file_names"
   ]
  },
  {
   "cell_type": "code",
   "execution_count": 48,
   "id": "d74676c1-c3df-48b0-8b94-626e17e4211e",
   "metadata": {},
   "outputs": [
    {
     "name": "stdout",
     "output_type": "stream",
     "text": [
      "{'dbz': '/glade/scratch/hungjui/DATA_WRF_CONUS_1_dBZ_v1.0/CTRL3D/2011/wrf3d_d01_CTRL_dbz_20110427.nc', 'Z': '/gpfs/fs1/collections/rda/data/ds612.0/CTRL3D/2011/wrf3d_d01_CTRL_Z_20110427.nc'}\n"
     ]
    }
   ],
   "source": [
    "## Set wrf simulation type:\n",
    "wrf_sim_type = 'CTRL3D'\n",
    "\n",
    "## Set date time:\n",
    "case_date_time = dt.datetime(2011,4,27) \n",
    "# case_date_time = dt.datetime(2013,9,13) \n",
    "\n",
    "file_name_list = set_input_names(case_date_time)\n",
    "print(file_name_list)"
   ]
  },
  {
   "cell_type": "markdown",
   "id": "e5356d44-ab08-415d-945e-0e5003ef3828",
   "metadata": {},
   "source": [
    "**Use wrf.interplevel directly for interpolation:**"
   ]
  },
  {
   "cell_type": "code",
   "execution_count": 49,
   "id": "bbe09693-a8f7-4c83-8a4e-b767c49c6a25",
   "metadata": {},
   "outputs": [],
   "source": [
    "## Set hour:\n",
    "## 0:00, 1:03, 2:06, 3:09, 4:12, 5:15, 6:18, 7:21\n",
    "time_hour_idx = 4 \n",
    "\n",
    "## Set interpolation height:\n",
    "interp_vertical_lev = 3000 # meter in height.\n",
    "\n",
    "## Interpolation:\n",
    "ds_wrf_dbz = xr.open_dataset(file_name_list['dbz'])\n",
    "da_wrf_dbz = ds_wrf_dbz['dBZ'].isel(Time=time_hour_idx)\n",
    "\n",
    "## Set -30 dBZ as NaN:\n",
    "# da_wrf_dbz = da_wrf_dbz.where(da_wrf_dbz>-30.0)\n",
    "\n",
    "data_wrf_z_unstag = wrf.destagger(getvar(Dataset(file_name_list['Z']), 'Z', timeidx=0, meta=False), 0)\n",
    "\n",
    "dbz_lev = interplevel(da_wrf_dbz, data_wrf_z_unstag, interp_vertical_lev)\n",
    "dbz_lev = dbz_lev.assign_attrs(vert_units='m')\n",
    "\n",
    "## Set -30 dBZ as NaN:\n",
    "# dbz_lev = dbz_lev.where(dbz_lev>-30.0)"
   ]
  },
  {
   "cell_type": "markdown",
   "id": "29d27359-9e8e-4d0a-ba3e-63859c2631a6",
   "metadata": {},
   "source": [
    "**Convective/Stratiform separation:**"
   ]
  },
  {
   "cell_type": "code",
   "execution_count": 50,
   "id": "e3bfd503-68fc-4ac5-8e99-f91572302228",
   "metadata": {},
   "outputs": [
    {
     "name": "stdout",
     "output_type": "stream",
     "text": [
      "<class 'numpy.ndarray'>\n"
     ]
    },
    {
     "name": "stderr",
     "output_type": "stream",
     "text": [
      "/glade/work/hungjui/Research_Test/WRF_dBZ_Cloud_Classification/WRF_dBZ_Class_CONUS1/conv_stra_sep.py:175: RuntimeWarning: invalid value encountered in less\n",
      "  inThr = (bkgnd < 0.) & ((dbz - bkgnd) > bg_diff)\n",
      "/glade/work/hungjui/Research_Test/WRF_dBZ_Cloud_Classification/WRF_dBZ_Class_CONUS1/conv_stra_sep.py:175: RuntimeWarning: invalid value encountered in greater\n",
      "  inThr = (bkgnd < 0.) & ((dbz - bkgnd) > bg_diff)\n",
      "/glade/work/hungjui/Research_Test/WRF_dBZ_Cloud_Classification/WRF_dBZ_Class_CONUS1/conv_stra_sep.py:180: RuntimeWarning: invalid value encountered in greater_equal\n",
      "  inCon = (bkgnd >= 0.) & (bkgnd < tune_thresh) & (dbz-bkgnd > (bg_diff-(bkgnd**2.)/180.))\n",
      "/glade/work/hungjui/Research_Test/WRF_dBZ_Cloud_Classification/WRF_dBZ_Class_CONUS1/conv_stra_sep.py:180: RuntimeWarning: invalid value encountered in less\n",
      "  inCon = (bkgnd >= 0.) & (bkgnd < tune_thresh) & (dbz-bkgnd > (bg_diff-(bkgnd**2.)/180.))\n",
      "/glade/work/hungjui/Research_Test/WRF_dBZ_Cloud_Classification/WRF_dBZ_Class_CONUS1/conv_stra_sep.py:180: RuntimeWarning: invalid value encountered in greater\n",
      "  inCon = (bkgnd >= 0.) & (bkgnd < tune_thresh) & (dbz-bkgnd > (bg_diff-(bkgnd**2.)/180.))\n",
      "/glade/work/hungjui/Research_Test/WRF_dBZ_Cloud_Classification/WRF_dBZ_Class_CONUS1/conv_stra_sep.py:188: RuntimeWarning: invalid value encountered in greater_equal\n",
      "  inbkCore = bkgnd >= tune_thresh\n",
      "/glade/work/hungjui/Research_Test/WRF_dBZ_Cloud_Classification/WRF_dBZ_Class_CONUS1/conv_stra_sep.py:193: RuntimeWarning: invalid value encountered in greater_equal\n",
      "  inCore = (dbz >= CoreThresh)\n",
      "/glade/work/hungjui/Research_Test/WRF_dBZ_Cloud_Classification/WRF_dBZ_Class_CONUS1/conv_stra_sep.py:200: RuntimeWarning: invalid value encountered in less_equal\n",
      "  In1 = np.where((cc > 0) & (bkgnd <= 25.))\n"
     ]
    },
    {
     "name": "stdout",
     "output_type": "stream",
     "text": [
      "RUNTIME：3.500440 SEC\n",
      "RUNTIME：0.058341 MIN\n",
      "RUNTIME：0.000972 HOUR\n"
     ]
    },
    {
     "name": "stderr",
     "output_type": "stream",
     "text": [
      "/glade/work/hungjui/Research_Test/WRF_dBZ_Cloud_Classification/WRF_dBZ_Class_CONUS1/conv_stra_sep.py:204: RuntimeWarning: invalid value encountered in greater\n",
      "  In2 = np.where((cc > 0) & (bkgnd > 25.) & (bkgnd <= 32.))\n",
      "/glade/work/hungjui/Research_Test/WRF_dBZ_Cloud_Classification/WRF_dBZ_Class_CONUS1/conv_stra_sep.py:204: RuntimeWarning: invalid value encountered in less_equal\n",
      "  In2 = np.where((cc > 0) & (bkgnd > 25.) & (bkgnd <= 32.))\n",
      "/glade/work/hungjui/Research_Test/WRF_dBZ_Cloud_Classification/WRF_dBZ_Class_CONUS1/conv_stra_sep.py:208: RuntimeWarning: invalid value encountered in greater\n",
      "  In3 = np.where((cc > 0) & (bkgnd > 32.) & (bkgnd <= 37.))\n",
      "/glade/work/hungjui/Research_Test/WRF_dBZ_Cloud_Classification/WRF_dBZ_Class_CONUS1/conv_stra_sep.py:208: RuntimeWarning: invalid value encountered in less_equal\n",
      "  In3 = np.where((cc > 0) & (bkgnd > 32.) & (bkgnd <= 37.))\n",
      "/glade/work/hungjui/Research_Test/WRF_dBZ_Cloud_Classification/WRF_dBZ_Class_CONUS1/conv_stra_sep.py:212: RuntimeWarning: invalid value encountered in greater\n",
      "  In4 = np.where((cc > 0) & (bkgnd > 37.) & (bkgnd <= 42.))\n",
      "/glade/work/hungjui/Research_Test/WRF_dBZ_Cloud_Classification/WRF_dBZ_Class_CONUS1/conv_stra_sep.py:212: RuntimeWarning: invalid value encountered in less_equal\n",
      "  In4 = np.where((cc > 0) & (bkgnd > 37.) & (bkgnd <= 42.))\n",
      "/glade/work/hungjui/Research_Test/WRF_dBZ_Cloud_Classification/WRF_dBZ_Class_CONUS1/conv_stra_sep.py:216: RuntimeWarning: invalid value encountered in greater\n",
      "  In5 = np.where((cc > 0) & (bkgnd > 42.))\n"
     ]
    }
   ],
   "source": [
    "## Make sure the array for the masking is in numpy array format (speed issue):\n",
    "refl = dbz_lev.data\n",
    "lat = np.array(dbz_lev.XLAT)\n",
    "lon = np.array(dbz_lev.XLONG)\n",
    "\n",
    "print(type(refl))\n",
    "\n",
    "start = time.time()\n",
    "\n",
    "## Convective/Stratiform separation:\n",
    "# cs, cc, bkgnd = sep0.conv_strat_latlon(refl, lat, lon)\n",
    "cs, cc, bkgnd = sep2.conv_stra_sep(refl, lat, lon)\n",
    "\n",
    "# cs, cc, bkgnd = sep2.conv_stra_sep(dbz_lev.data, dbz_lev.XLAT, dbz_lev.XLONG)\n",
    "\n",
    "end = time.time()\n",
    "print(\"RUNTIME：%f SEC\" % (end - start))\n",
    "print(\"RUNTIME：%f MIN\" % ((end - start)/60))\n",
    "print(\"RUNTIME：%f HOUR\" % ((end - start)/3600))"
   ]
  },
  {
   "cell_type": "code",
   "execution_count": 51,
   "id": "82fbbc42-f9fa-40a6-947b-b268ad48b9ab",
   "metadata": {},
   "outputs": [],
   "source": [
    "# xcs = xr.DataArray(cs)\n",
    "# xdbz = xr.DataArray(refl)\n",
    "# xdbz.plot()\n",
    "# print(type(np.array(dbz_lev.XLAT)))\n",
    "# print(type(dbz_lev.XLAT))\n",
    "# np.argwhere(np.isnan(dbz_lev.data))"
   ]
  },
  {
   "cell_type": "markdown",
   "id": "1d94fff1-85ad-432d-bfb4-5a12d380dc4b",
   "metadata": {},
   "source": [
    "**Filter the Conv/Stra class by Reflectivity:**"
   ]
  },
  {
   "cell_type": "code",
   "execution_count": 52,
   "id": "67fb9323-b49e-46cd-940e-2122cee8d633",
   "metadata": {},
   "outputs": [
    {
     "name": "stderr",
     "output_type": "stream",
     "text": [
      "/glade/u/ssg/ch/usr/jupyterhub/envs/npl-3.7.9/dav/lib/python3.7/site-packages/ipykernel_launcher.py:2: RuntimeWarning: invalid value encountered in less_equal\n",
      "  \n"
     ]
    }
   ],
   "source": [
    "# cs[np.where(refl <= -30.0)] = np.nan\n",
    "cs[np.where(refl <= -20.0)] = np.nan\n",
    "# cs[np.where(refl <= 0.0)] = np.nan\n",
    "cs[np.where(np.isnan(refl))] = -1\n",
    "\n",
    "# cs"
   ]
  },
  {
   "cell_type": "markdown",
   "id": "efb7aae2-f7a4-4cf0-adc0-54057b6dbba7",
   "metadata": {},
   "source": [
    "**Save interpolated field to temporary file (if needed):**"
   ]
  },
  {
   "cell_type": "code",
   "execution_count": 53,
   "id": "91de791c-558e-453b-96ca-87abc8ab84b2",
   "metadata": {},
   "outputs": [],
   "source": [
    "# dbz_lev.to_netcdf('/glade/scratch/hungjui/temp/tmp_dbz_lev.nc')\n",
    "# write_xarray_to_netcdf(dbz_lev, '/glade/scratch/hungjui/temp/tmp_dbz_lev.nc')"
   ]
  },
  {
   "cell_type": "markdown",
   "id": "8ad4be68-c309-456d-af5e-805a3013fbc1",
   "metadata": {},
   "source": [
    "### Test plot:"
   ]
  },
  {
   "cell_type": "markdown",
   "id": "88aa62b1-b536-43fe-a665-1ee49dbba517",
   "metadata": {},
   "source": [
    "**Function: creating new map:**"
   ]
  },
  {
   "cell_type": "code",
   "execution_count": 54,
   "id": "5fa8a96f-c2e4-4ba5-b2b3-272ebf6d236a",
   "metadata": {},
   "outputs": [],
   "source": [
    "def new_map(fig):\n",
    "    \n",
    "    # proj = ccrs.LambertConformal()\n",
    "    proj = ccrs.PlateCarree(central_longitude=0)\n",
    "    \n",
    "    # ax = fig.add_subplot(1, 1, 1, projection=proj)\n",
    "    ax = plt.axes(projection=proj)\n",
    "    \n",
    "    ## Set extent:\n",
    "    # ax.set_global()\n",
    "    # ax.set_extent([-139, -55, 16, 60], crs=proj)\n",
    "    ax.set_extent([-96, -84, 33, 41], crs=proj)\n",
    "    \n",
    "    ## Add coast lines:\n",
    "    ax.coastlines('10m', 'black', linewidth=1)\n",
    "    \n",
    "    ## Add features:\n",
    "    ax.add_feature(cfeat.BORDERS)\n",
    "    ax.add_feature(cfeat.OCEAN, edgecolor=None, fc='none')\n",
    "    \n",
    "    ## Grab state shapefile:\n",
    "    state_borders = cfeat.NaturalEarthFeature(category='cultural', \n",
    "                                              name='admin_1_states_provinces_lines', \n",
    "                                              scale='110m', \n",
    "                                              facecolor='none',\n",
    "                                              edgecolor='k'\n",
    "                                             )\n",
    "    \n",
    "    ax.add_feature(state_borders, linewidth=0.8)\n",
    "    \n",
    "    ## Add the gridlines:\n",
    "    latlon_grid_int = 2\n",
    "    ax_gl = ax.gridlines(crs=ccrs.PlateCarree()\n",
    "                        ,linewidth=0.5\n",
    "                        ,color='#454545' \n",
    "                        ,alpha=0.9\n",
    "                        ,linestyle='--'\n",
    "                        ,draw_labels=True \n",
    "                        ,dms=True\n",
    "                        ,x_inline=False \n",
    "                        ,y_inline=False\n",
    "                        ,xlocs=np.arange(-180, 181, latlon_grid_int)\n",
    "                        ,ylocs=np.arange(-90, 91, latlon_grid_int)\n",
    "                        )\n",
    "    ax_gl.top_labels = False\n",
    "    ax_gl.right_labels = False\n",
    "    ax_gl.bottom_labels = True\n",
    "    ax_gl.left_labels = True\n",
    "    ax_gl.xlabel_style = {'size': 12, 'weight': 'bold'}\n",
    "    ax_gl.ylabel_style = {'size': 12, 'weight': 'bold'}\n",
    "    \n",
    "    \n",
    "    return ax"
   ]
  },
  {
   "cell_type": "markdown",
   "id": "4ad4d114-9090-493e-97ff-02289a6d25e5",
   "metadata": {},
   "source": [
    "**Do the plot:**"
   ]
  },
  {
   "cell_type": "code",
   "execution_count": 55,
   "id": "fc6f5670-7779-4bc1-afad-d87b05a4c7ae",
   "metadata": {},
   "outputs": [
    {
     "name": "stderr",
     "output_type": "stream",
     "text": [
      "/glade/u/ssg/ch/usr/jupyterhub/envs/npl-3.7.9/dav/lib/python3.7/site-packages/cartopy/mpl/geoaxes.py:1598: UserWarning: The input coordinates to pcolormesh are interpreted as cell centers, but are not monotonically increasing or decreasing. This may lead to incorrectly calculated cell edges, in which case, please supply explicit cell edges to pcolormesh.\n",
      "  shading=shading)\n"
     ]
    },
    {
     "data": {
      "image/png": "[encoded data removed]",
      "text/plain": [
       "<Figure size 864x648 with 2 Axes>"
      ]
     },
     "metadata": {
      "needs_background": "light"
     },
     "output_type": "display_data"
    }
   ],
   "source": [
    "fig = plt.figure(figsize=(12,9))\n",
    "ax1 = new_map(fig)\n",
    "# ax1 = plt.axes(projection = ccrs.LambertConformal(central_longitude=-100, central_latitude=40))\n",
    "# ax1 = plt.axes(projection = ccrs.PlateCarree())\n",
    "\n",
    "# cs[cs<0] = np.nan\n",
    "# cc[cc<0] = np.nan\n",
    "\n",
    "plotting_var = cs\n",
    "plotting_lon = dbz_lev.XLONG\n",
    "plotting_lat = dbz_lev.XLAT\n",
    "\n",
    "cf1 = ax1.pcolormesh(plotting_lon, plotting_lat, plotting_var, cmap=plt.cm.get_cmap('gist_ncar', 7))\n",
    "cf1.cmap.set_under('w')\n",
    "\n",
    "## Title:\n",
    "cf1_title = plt.title(np.datetime_as_string(dbz_lev.Time.data, unit='h') + ' / ' + \n",
    "                      wrf_sim_type + ' / ' + \n",
    "                      'Conv. Stra. class / ' + \n",
    "                      'z=' + str(interp_vertical_lev) + dbz_lev.vert_units \n",
    "                     ,fontsize=14 \n",
    "                     ,fontweight='bold'\n",
    "                     # ,loc='left'\n",
    "                     )\n",
    "\n",
    "# plt.title('right', loc='right')\n",
    "\n",
    "## Colorbar:\n",
    "cbar_ax = fig.add_axes([0.92, 0.3, 0.015, 0.4])\n",
    "cbar = fig.colorbar(cf1, \n",
    "                    cax=cbar_ax, \n",
    "                    fraction=0.04, \n",
    "                    ticks=np.arange(-1, 6, 1), \n",
    "                    boundaries=np.arange(-1.5, 6.5, 1))\n",
    "cbar.ax.tick_params(labelsize=12)\n",
    "cbar.set_ticklabels(['NaN', 'Stra.', 'Conv.1', 'Conv.2', 'Conv.3', 'Conv.4', 'Conv.5'])\n",
    "# cbar_title = plt.title('[dBZ]', fontsize=12, y=-0.1)\n",
    "\n",
    "## Save figure:\n",
    "plt.savefig('./' + np.datetime_as_string(dbz_lev.Time.data, unit='h') + '_CSmask.png', \n",
    "            bbox_inches='tight', \n",
    "            dpi=150)\n"
   ]
  },
  {
   "cell_type": "code",
   "execution_count": 56,
   "id": "f4321a4f-86d4-4ed8-abf1-39d4f5595494",
   "metadata": {},
   "outputs": [
    {
     "name": "stdin",
     "output_type": "stream",
     "text": [
      "Once deleted, variables cannot be recovered. Proceed (y/[n])?  y\n"
     ]
    }
   ],
   "source": [
    "%reset"
   ]
  },
  {
   "cell_type": "code",
   "execution_count": null,
   "id": "f2018b04-921d-488e-ba23-66813fa358e4",
   "metadata": {},
   "outputs": [],
   "source": []
  }
 ],
 "metadata": {
  "kernelspec": {
   "display_name": "NPL-3.7.9",
   "language": "python",
   "name": "npl-3.7.9"
  },
  "language_info": {
   "codemirror_mode": {
    "name": "ipython",
    "version": 3
   },
   "file_extension": ".py",
   "mimetype": "text/x-python",
   "name": "python",
   "nbconvert_exporter": "python",
   "pygments_lexer": "ipython3",
   "version": "3.7.9"
  }
 },
 "nbformat": 4,
 "nbformat_minor": 5
}
