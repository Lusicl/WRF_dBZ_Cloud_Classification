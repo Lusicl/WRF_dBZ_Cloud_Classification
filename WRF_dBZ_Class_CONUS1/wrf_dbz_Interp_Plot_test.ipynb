{
 "cells": [
  {
   "cell_type": "markdown",
   "id": "869fb837-0d1f-4790-9318-8aff52b75ef9",
   "metadata": {},
   "source": [
    "## Convective/Stratiform identification for 3D Reflectivity from derived dBZ of WRF Simulations. \n",
    "\n",
    "**For [High Resolution WRF Simulations of the Current and Future Climate of North America](https://rda.ucar.edu/datasets/ds612.0/).**\n",
    "\n",
    "**Hungjui Yu 20210930**"
   ]
  },
  {
   "cell_type": "code",
   "execution_count": 1,
   "id": "70de2b4e-ad2a-429f-ad4d-c27561e36fad",
   "metadata": {},
   "outputs": [
    {
     "name": "stdin",
     "output_type": "stream",
     "text": [
      "Once deleted, variables cannot be recovered. Proceed (y/[n])?  y\n"
     ]
    }
   ],
   "source": [
    "%reset\n",
    "\n",
    "import sys\n",
    "from shutil import copyfile\n",
    "import time\n",
    "import datetime as dt\n",
    "import pytz\n",
    "from netCDF4 import (Dataset, MFDataset)\n",
    "import numpy as np\n",
    "from scipy.interpolate import interpn\n",
    "import xarray as xr\n",
    "import pandas as pd\n",
    "import wrf\n",
    "from wrf import (getvar, vinterp, interplevel, extract_times, destagger, to_np, latlon_coords, get_cartopy,\n",
    "                 cartopy_xlim, cartopy_ylim)\n",
    "\n",
    "import cartopy.crs as ccrs\n",
    "from cartopy.feature import NaturalEarthFeature\n",
    "import matplotlib as mpl\n",
    "import matplotlib.pyplot as plt\n",
    "\n",
    "# import metpy\n",
    "# import metpy.calc as mpcalc\n",
    "# import metpy.units as units\n",
    "# print(metpy.__version__)\n",
    "# import dask\n"
   ]
  },
  {
   "cell_type": "markdown",
   "id": "1cc002f5-0b9b-4623-9125-4bbc79e62cb1",
   "metadata": {},
   "source": [
    "**Set input files paths and names:**"
   ]
  },
  {
   "cell_type": "code",
   "execution_count": 2,
   "id": "3f06ea2c-4b38-4bdc-9459-a47621e73e76",
   "metadata": {},
   "outputs": [
    {
     "name": "stdout",
     "output_type": "stream",
     "text": [
      "{'dbz': '/glade/scratch/hungjui/DATA_WRF_CONUS_1_dBZ_v1.0/CTRL3D/2013/wrf3d_d01_CTRL_dbz_20130913.nc', 'Z': '/gpfs/fs1/collections/rda/data/ds612.0/CTRL3D/2013/wrf3d_d01_CTRL_Z_20130913.nc'}\n"
     ]
    }
   ],
   "source": [
    "def set_input_names(file_date):\n",
    "\n",
    "    file_path_1 = '/gpfs/fs1/collections/rda/data/ds612.0'\n",
    "    file_path_1_dbz = '/glade/scratch/hungjui/DATA_WRF_CONUS_1_dBZ_v1.0'\n",
    "    file_path_2 = '/' + wrf_sim_type # '/CTRL3D'\n",
    "    file_path_3 = '/{}'.format(file_date.strftime('%Y'))\n",
    "\n",
    "    file_names = dict( dbz = file_path_1_dbz\n",
    "                           + file_path_2 \n",
    "                           + file_path_3 \n",
    "                           + '/wrf3d_d01_' + wrf_sim_type[0:-2] + '_dbz_{}.nc'.format(file_date.strftime('%Y%m%d'))\n",
    "                       , Z = file_path_1 \n",
    "                           + file_path_2 \n",
    "                           + file_path_3 \n",
    "                           + '/wrf3d_d01_' + wrf_sim_type[0:-2] + '_Z_{}.nc'.format(file_date.strftime('%Y%m%d'))\n",
    "                     )\n",
    "    \n",
    "    return file_names\n",
    "\n",
    "wrf_sim_type = 'CTRL3D'\n",
    "file_name_list = set_input_names(dt.datetime(2013,9,13))\n",
    "print(file_name_list)"
   ]
  },
  {
   "cell_type": "markdown",
   "id": "e5356d44-ab08-415d-945e-0e5003ef3828",
   "metadata": {},
   "source": [
    "**Deploy wrf.interplevel directly:**"
   ]
  },
  {
   "cell_type": "code",
   "execution_count": 3,
   "id": "bbe09693-a8f7-4c83-8a4e-b767c49c6a25",
   "metadata": {},
   "outputs": [],
   "source": [
    "# wrf_dbz = getvar(ncds_wrf_dbz, 'dBZ', meta=False)\n",
    "\n",
    "ds_wrf_dbz = xr.open_dataset(file_name_list['dbz'])\n",
    "da_wrf_dbz = ds_wrf_dbz['dBZ'].isel(Time=0)\n",
    "\n",
    "data_wrf_z_unstag = wrf.destagger(getvar(Dataset(file_name_list['Z']), 'Z', timeidx=0, meta=False), 0)\n",
    "\n",
    "interp_vertical_lev = [2500] # meter inheight.\n",
    "\n",
    "dbz_lev = interplevel(da_wrf_dbz, data_wrf_z_unstag, interp_vertical_lev)\n"
   ]
  },
  {
   "cell_type": "markdown",
   "id": "efb7aae2-f7a4-4cf0-adc0-54057b6dbba7",
   "metadata": {},
   "source": [
    "**Save interpolated field to temporary file:**"
   ]
  },
  {
   "cell_type": "code",
   "execution_count": 4,
   "id": "91de791c-558e-453b-96ca-87abc8ab84b2",
   "metadata": {},
   "outputs": [],
   "source": [
    "# dbz_lev = dbz_lev.assign_attrs(vert_units='m')\n",
    "# dbz_lev.to_netcdf('/glade/scratch/hungjui/temp/tmp_dbz_lev.nc')\n",
    "# write_xarray_to_netcdf(dbz_lev, '/glade/scratch/hungjui/temp/tmp_dbz_lev.nc')"
   ]
  },
  {
   "cell_type": "markdown",
   "id": "8ad4be68-c309-456d-af5e-805a3013fbc1",
   "metadata": {},
   "source": [
    "### Test plot:"
   ]
  },
  {
   "cell_type": "markdown",
   "id": "1afd6633-a217-44e6-9597-33372333fd58",
   "metadata": {},
   "source": [
    "**Set colorbars:**"
   ]
  },
  {
   "cell_type": "code",
   "execution_count": 5,
   "id": "526c73fd-cea1-4ea8-aa2c-edb6981e988f",
   "metadata": {},
   "outputs": [],
   "source": [
    "## Set NWS reflectivity colorbar:\n",
    "from metpy.plots import ctables\n",
    "ref_norm, ref_cmap = ctables.registry.get_with_steps('NWSStormClearReflectivity', -20, 0.5)\n",
    "\n",
    "## Set CWB reflectivity colorbar:\n",
    "# clevs = [-5,0,5,10,15,20,25,30,35,40,45,50,55,60,65,70,75,85]\n",
    "# ccols = ['#ffffff','#98ffff','#009aff','#1919ff','#19ff19','#19cd19','#19A019','#fefe08','#ffcb00','#ff9c00','#fe0005','#c90200','#9d0000','#9a009d','#cf00d7','#ff00f7','#fdcafe']\n",
    "clevs = [-30,-25,-20,-15,-10,-5,0,5,10,15,20,25,30,35,40,45,50,55,60,65,70,75,85]\n",
    "ccols = ['#f0f8ff','#f0f8ff','#f0f8ff','#f0f8ff','#f0f8ff','#f0f8ff','#98ffff','#009aff','#1919ff','#19ff19','#19cd19','#19A019','#fefe08','#ffcb00','#ff9c00','#fe0005','#c90200','#9d0000','#9a009d','#cf00d7','#ff00f7','#fdcafe']"
   ]
  },
  {
   "cell_type": "markdown",
   "id": "88aa62b1-b536-43fe-a665-1ee49dbba517",
   "metadata": {},
   "source": [
    "**Function: creating new map:**"
   ]
  },
  {
   "cell_type": "code",
   "execution_count": 12,
   "id": "5fa8a96f-c2e4-4ba5-b2b3-272ebf6d236a",
   "metadata": {},
   "outputs": [],
   "source": [
    "def new_map(fig):\n",
    "    \n",
    "    # proj = ccrs.LambertConformal()\n",
    "    proj = ccrs.PlateCarree(central_longitude=0)\n",
    "    \n",
    "    # ax = fig.add_subplot(1, 1, 1, projection=proj)\n",
    "    ax = plt.axes(projection=proj)\n",
    "    \n",
    "    ## Grab state borders:\n",
    "    state_borders = NaturalEarthFeature(category='cultural', \n",
    "                                        name='admin_1_states_provinces_shp', \n",
    "                                        scale='110m', \n",
    "                                        facecolor='none'\n",
    "                                       )\n",
    "    ax.add_feature(state_borders, edgecolor='black', linewidth=0.5)\n",
    "    \n",
    "    ## Add coast lines:\n",
    "    ax.coastlines('110m', 'black', linewidth=1)\n",
    "    \n",
    "    # Add the gridlines\n",
    "    ax.gridlines(color=\"black\", linestyle=\"dotted\")\n",
    "    \n",
    "    # ax.set_global()\n",
    "    \n",
    "    return ax"
   ]
  },
  {
   "cell_type": "markdown",
   "id": "4ad4d114-9090-493e-97ff-02289a6d25e5",
   "metadata": {},
   "source": [
    "**Do the plot:**"
   ]
  },
  {
   "cell_type": "code",
   "execution_count": 13,
   "id": "fc6f5670-7779-4bc1-afad-d87b05a4c7ae",
   "metadata": {},
   "outputs": [
    {
     "data": {
      "image/png": "[encoded data removed]",
      "text/plain": [
       "<Figure size 864x648 with 2 Axes>"
      ]
     },
     "metadata": {
      "needs_background": "light"
     },
     "output_type": "display_data"
    }
   ],
   "source": [
    "fig = plt.figure(figsize=(12,9))\n",
    "ax1 = new_map(fig)\n",
    "# ax1 = plt.axes(projection = ccrs.LambertConformal(central_longitude=-100, central_latitude=40))\n",
    "# ax1 = plt.axes(projection = ccrs.PlateCarree())\n",
    "\n",
    "plotting_var = dbz_lev.data\n",
    "plotting_lon = dbz_lev.XLONG\n",
    "plotting_lat = dbz_lev.XLAT\n",
    "\n",
    "cf = ax1.contourf(plotting_lon, plotting_lat, plotting_var, levels=clevs, colors=ccols)\n",
    "\n",
    "cbar_ax = fig.add_axes([0.92, 0.225, 0.015, 0.55])\n",
    "cbar = fig.colorbar(cf, cax=cbar_ax, ticks=clevs[1:17], fraction=0.04)\n",
    "\n",
    "# dbz_lev.plot(ax=ax1, transform = ccrs.LambertConformal(central_longitude=-100, central_latitude=40))\n",
    "# dbz_lev.plot(ax=ax1, transform=ccrs.PlateCarree())\n",
    "# dbz_lev.plot(ax=ax1)\n",
    "\n",
    "# Set the map bounds:\n",
    "# ax1.set_xlim(-120, -80)\n",
    "# ax1.set_ylim(20, 60)\n",
    "\n",
    "\n",
    "## NWS colorbar:\n",
    "\n",
    "# cf = ax1.pcolormesh(dbz_lev.XLONG, dbz_lev.XLAT, dbz_lev, cmap=ref_cmap, norm=ref_norm, zorder=0)\n",
    "\n",
    "# ax1.coastlines('10m', 'black', linewidth=2, zorder=2)\n",
    "\n",
    "# cbar_ax = fig.add_axes([0.9, 0.225, 0.015, 0.55])\n",
    "# cbar = fig.colorbar(cf, cax=cbar_ax)\n",
    "\n",
    "\n",
    "## CWB colorbar:\n",
    "\n",
    "# ax1.set_global()\n",
    "\n",
    "# ## add coast lines:\n",
    "# ax1.coastlines('110m', 'black', linewidth=2, zorder=2)\n",
    "# ## Grab state borders:\n",
    "# state_borders = NaturalEarthFeature(category='cultural', \n",
    "#                                     name='admin_1_states_provinces_lines', \n",
    "#                                     scale='110m', \n",
    "#                                     facecolor='none'\n",
    "#                                    )\n",
    "# ax1.add_feature(state_borders, edgecolor='black', linewidth=1, zorder=3)\n",
    "\n",
    "# lats, lons = latlon_coords(dbz_lev)\n",
    "# cf = ax1.contourf(to_np(lons), to_np(lats), to_np(dbz_lev), levels=clevs, colors=ccols, transform=ccrs.LambertConformal(), zorder=1)\n",
    "\n",
    "# cbar_ax = fig.add_axes([0.8, 0.225, 0.015, 0.55])\n",
    "# cbar = fig.colorbar(cf, cax=cbar_ax, ticks=clevs[1:17], fraction=0.04)\n",
    "\n",
    "\n",
    "# plt.title(datetime.utcnow())"
   ]
  },
  {
   "cell_type": "code",
   "execution_count": 27,
   "id": "0c2b1e61-6ae1-4795-a417-e9ae90b0b233",
   "metadata": {},
   "outputs": [],
   "source": [
    "# lats, lons = latlon_coords(dbz_lev)\n",
    "\n",
    "# fig = plt.figure(figsize=(12,6))\n",
    "# ax = plt.axes(projection=ccrs.PlateCarree())\n",
    "\n",
    "# ## Download and add the states and coastlines\n",
    "# # states = NaturalEarthFeature(category=\"cultural\", scale=\"50m\",\n",
    "# #                              facecolor=\"none\",\n",
    "# #                              name=\"admin_1_states_provinces_shp\")\n",
    "# # ax.add_feature(states, linewidth=.5, edgecolor=\"black\")\n",
    "# ax.coastlines('50m', linewidth=0.8)\n",
    "\n",
    "# plt.pcolor(to_np(lons), to_np(lats), to_np(dbz_lev),\n",
    "#            transform=ccrs.LambertConformal()\n",
    "#           )"
   ]
  },
  {
   "cell_type": "code",
   "execution_count": 22,
   "id": "da582611-80bb-4cde-8440-e3e226971458",
   "metadata": {},
   "outputs": [],
   "source": [
    "# dbz_lev.plot()"
   ]
  },
  {
   "cell_type": "code",
   "execution_count": 78,
   "id": "fb7ef7c7-0175-40c1-be30-0bc2ca0da2eb",
   "metadata": {},
   "outputs": [
    {
     "name": "stdout",
     "output_type": "stream",
     "text": [
      "<xarray.DataArray 'Time' ()>\n",
      "array('2013-09-13T00:00:00.000000000', dtype='datetime64[ns]')\n",
      "Coordinates:\n",
      "    Time     datetime64[ns] 2013-09-13\n",
      "    level    int64 2500\n",
      "Attributes:\n",
      "    long_name:    Time\n",
      "    description:  Time\n"
     ]
    }
   ],
   "source": [
    "# print(ncds_wrf_dbz)\n",
    "# print(ncds_wrf_z.dimensions)\n",
    "# print(type(data_wrf_z_unstag))\n",
    "# print(wrf_dbz)\n",
    "# dbz_lev\n",
    "# latlon_coords(dbz_lev)\n",
    "# get_cartopy(dbz_lev)\n",
    "# print(dbz_lev.Time)"
   ]
  },
  {
   "cell_type": "markdown",
   "id": "4e360f4a-2409-4180-8945-0db1176e2685",
   "metadata": {},
   "source": [
    "<del>**Function: write xarray dataarray to netcdf:**</del>"
   ]
  },
  {
   "cell_type": "code",
   "execution_count": 12,
   "id": "2339971c-ccd0-44d7-84f1-17b08d43e32e",
   "metadata": {},
   "outputs": [],
   "source": [
    "def write_xarray_to_netcdf(xarray_array, output_path,mode='w', format='NETCDF4', group=None, engine=None,\n",
    "                           encoding=None):\n",
    "    \"\"\"\n",
    "    writes and xarray in a netcdf format outputfile\n",
    "    Uses the xarray typical for wrf-python. The projection objects are transformed into strings\n",
    "    to be able to use them as netcdf attributes\n",
    "    :param xarray_array: xarray.DataArray\n",
    "    :param output_path: str\n",
    "    :param format: 'NETCDF4', 'NETCDF4_CLASSIC', 'NETCDF3_64BIT' or 'NETCDF3_CLASSIC'\n",
    "                    default: 'NETCDF4'\n",
    "    :param group: str, default None\n",
    "    :param engine: 'netcdf4', 'scipy' or 'h5netcdf'\n",
    "    :param encoding: dict, default: None\n",
    "    \"\"\"\n",
    "\n",
    "    xarray_array_out = xarray_array.copy(deep=True)\n",
    "    # coordinates are extracted from variable:\n",
    "    # del xarray_array_out.attrs['coordinates']\n",
    "    # wrf-python projection object cannot be processed:\n",
    "    # xarray_array_out.attrs['projection'] = str(xarray_array_out.attrs['projection'])\n",
    "\n",
    "    xarray_array_out.to_netcdf(path=output_path, mode=mode, format=format, group=group,\n",
    "                               engine=engine,\n",
    "                               encoding=encoding)"
   ]
  },
  {
   "cell_type": "markdown",
   "id": "4623103f-a594-43a8-a3b5-8a5f0eab50a6",
   "metadata": {},
   "source": [
    "<del>**Test inserting Z into Netcdf4 dataset:**</del>"
   ]
  },
  {
   "cell_type": "code",
   "execution_count": 29,
   "id": "78e80c6a-5c96-4ca4-ac9c-af8bde51a325",
   "metadata": {},
   "outputs": [],
   "source": [
    "# # ncds_wrf_dbz = Dataset(file_name_list['dbz'], 'a') # , format=\"NETCDF4\")\n",
    "\n",
    "# tmp_wrf_data = '/glade/scratch/hungjui/temp/tmp_wrf_dbz.nc'\n",
    "# copyfile(file_name_list['dbz'], tmp_wrf_data)\n",
    "# ncds_wrf_dbz = Dataset(tmp_wrf_data, 'a')\n",
    "\n",
    "# ncds_wrf_z = Dataset(file_name_list['Z'])\n",
    "# data_wrf_z_unstag = wrf.destagger(getvar(ncds_wrf_z, 'Z', timeidx=wrf.ALL_TIMES, meta=False), 1)\n",
    "# ncds_wrf_z.close()\n",
    "\n",
    "# GEO_H = ncds_wrf_dbz.createVariable('Z', 'f4', ('Time', 'bottom_top', 'south_north', 'west_east'))\n",
    "# GEO_H[:] = data_wrf_z_unstag\n",
    "\n",
    "# ncds_wrf_dbz.close()"
   ]
  },
  {
   "cell_type": "markdown",
   "id": "68ce6c18-4cda-4b5f-b3b7-bf4e1ccd0d19",
   "metadata": {},
   "source": [
    "<del>**Test inserting Z into Netcdf4 dataset (read multiple files at once):\n",
    "NOT WORKING!**</del>"
   ]
  },
  {
   "cell_type": "code",
   "execution_count": 87,
   "id": "b41f8d94-4b9e-4cf7-af36-dce8b38ca779",
   "metadata": {},
   "outputs": [],
   "source": [
    "# file_names = [ file_name_list['dbz'], file_name_list['Z'] ]\n",
    "# ncds_wrf_dbz_z = MFDataset(file_names)"
   ]
  },
  {
   "cell_type": "markdown",
   "id": "3cf07d7b-8140-494c-b0eb-8262ce1a9e62",
   "metadata": {},
   "source": [
    "<del>**Test interpolation with xarray data array:**</del>"
   ]
  },
  {
   "cell_type": "code",
   "execution_count": 3,
   "id": "f509b077-4ff4-426e-b35b-8e180ace8116",
   "metadata": {},
   "outputs": [],
   "source": [
    "# ds_wrf_dbz = xr.open_dataset(file_name_list['dbz'])\n",
    "\n",
    "# data_wrf_z_unstag = wrf.destagger(getvar(Dataset(file_name_list['Z']), 'Z', timeidx=0, meta=False), 0)\n",
    "# # print(ds_wrf_z_unstag.shape)\n",
    "# # print(type(da_wrf_z_unstag))\n",
    "\n",
    "# da_wrf_dbz = ds_wrf_dbz['dBZ'].isel(Time=0).assign_coords(GEO_H=(('bottom_top','south_north','west_east'), data_wrf_z_unstag))\n",
    "\n",
    "# # da_wrf_dbz = xr.DataArray( ds_wrf_dbz['dBZ'].isel(Time=0), {'GEO_H': (('bottom_top','south_north','west_east'), da_wrf_z_unstag)} )\n",
    "\n",
    "# # da_wrf_dbz"
   ]
  },
  {
   "cell_type": "markdown",
   "id": "5fba73ed-e4ab-4889-8e26-a7f9df4144c5",
   "metadata": {},
   "source": [
    "**Get wrf output variables:**"
   ]
  },
  {
   "cell_type": "code",
   "execution_count": 58,
   "id": "1c600816-e8eb-4a48-bf0c-1b3a66b48be4",
   "metadata": {},
   "outputs": [],
   "source": [
    "def get_wrf_vars(file_name, var_name, time_index):\n",
    "\n",
    "    wrf_file = Dataset(file_name)\n",
    "    # wrf_var = getvar(wrf_file, wrf_var_to_read, timeidx=time_index_1) # This doesn't work for CONUS run files.\n",
    "    wrf_var = getvar(wrf_file, var_name, timeidx=time_index, meta=False)\n",
    "    # wrf_var_time = wrf.extract_times(wrf_file, timeidx=time_index)\n",
    "    # print(wrf_var_time)\n",
    "    \n",
    "    return wrf_var"
   ]
  },
  {
   "cell_type": "markdown",
   "id": "200f51dc-7717-47e4-bcda-c66574c92d70",
   "metadata": {},
   "source": [
    "**Set output file path and name:**"
   ]
  },
  {
   "cell_type": "code",
   "execution_count": 5,
   "id": "7511720e-d0c5-4065-b9db-40eb9467791e",
   "metadata": {},
   "outputs": [],
   "source": [
    "def set_output_name(output_file_datetime):\n",
    "\n",
    "    # output_path = '/glade/u/home/hungjui/2scratch/DATA_WRF_CONUS_1_dBZ_v1.0'\n",
    "    \n",
    "    output_time = pd.to_datetime(output_file_datetime).strftime('%Y%m%d') # If input time type is numpy.datetime64:\n",
    "    \n",
    "    # output_name = output_path + '/wrf3d_d01_dbz_{}.nc'.format(file_date_time.strftime('%Y%m%d%H'))\n",
    "    # output_name = output_path + '/wrf3d_d01_dbz_{}.nc'.format(output_time)\n",
    "    output_name = '/wrf3d_d01_' + wrf_sim_type[0:-2] + '_dbz_{}.nc'.format(output_time)\n",
    "\n",
    "    return output_name\n"
   ]
  },
  {
   "cell_type": "markdown",
   "id": "77a356da-81e0-4462-95b7-6814886ba254",
   "metadata": {},
   "source": [
    "### Main Function:"
   ]
  },
  {
   "cell_type": "code",
   "execution_count": 6,
   "id": "b272ee31-b09e-4612-b587-a76bcee7ca80",
   "metadata": {},
   "outputs": [],
   "source": [
    "def main_function(file_date_time):\n",
    "    \n",
    "    ## Set file datetime:\n",
    "    # file_date_time = dt.datetime(2013, 9, 13, 0, 0, 0, tzinfo=pytz.utc)\n",
    "    print('Processing: {}'.format(file_date_time.strftime('%Y%m%d')), end=' ')\n",
    "    \n",
    "    ## Set input files paths and names:\n",
    "    file_name_dict = set_input_names(file_date_time)\n",
    "\n",
    "    ## Get the 3-hourly time list from P and QRAIN files:\n",
    "    wrf_3hour_list_1 = wrf.extract_times(Dataset(file_name_dict['P']), timeidx=wrf.ALL_TIMES, meta=False, do_xtime=False)\n",
    "    wrf_3hour_list_2 = wrf.extract_times(Dataset(file_name_dict['QRAIN']), timeidx=wrf.ALL_TIMES, meta=False, do_xtime=False)\n",
    "\n",
    "    ## Set wrf variable list for reflectivity retrieval:\n",
    "    wrf_vars_list = ['P', 'TK', 'QVAPOR', 'QRAIN', 'QSNOW', 'QGRAUP']\n",
    "\n",
    "    ## Set dBZ data array and append calculated data:\n",
    "    # wrf_dbz = xr.zeros_like(wrf_dataset_out['P'])\n",
    "    \n",
    "    for hi in range(len(wrf_3hour_list_1)):\n",
    "        \n",
    "        print(str(hi) + ' | ', end=' ')\n",
    "\n",
    "        ## Get the index for common time in different files (every 3-hour):\n",
    "        common_index_2 = np.intersect1d(wrf_3hour_list_1[hi], wrf_3hour_list_2, return_indices=True)[2][0]\n",
    "\n",
    "        ## Get wrf output variables:\n",
    "        wrf_vars = {}\n",
    "        for vname in wrf_vars_list:\n",
    "\n",
    "            file_name = file_name_dict[vname]\n",
    "\n",
    "            if ( vname in ['QRAIN', 'QGRAUP'] ):\n",
    "                wrf_vars['{}'.format(vname)] = get_wrf_vars(file_name, vname, common_index_2)\n",
    "                # wrf_vars['{}'.format(vname)] = xr.open_dataset(file_name)\n",
    "            else:\n",
    "                wrf_vars['{}'.format(vname)] = get_wrf_vars(file_name, vname, hi)\n",
    "                # wrf_vars['{}'.format(vname)] = xr.open_dataset(file_name)\n",
    "\n",
    "\n",
    "        ## Calculation for dBZ:\n",
    "        wrf_dbz_3hr = calculate_wrf_dbz(wrf_vars['P'],\n",
    "                                        wrf_vars['TK'], \n",
    "                                        wrf_vars['QVAPOR'],\n",
    "                                        wrf_vars['QRAIN'],\n",
    "                                        wrf_vars['QSNOW'],\n",
    "                                        wrf_vars['QGRAUP']\n",
    "                                        ) # .to_dataset()\n",
    "        \n",
    "        # wrf_dbz_3hr = wrf_dbz_3hr.expand_dims({'TimeDim': 8})\n",
    "        # print(wrf_dbz_3hr)\n",
    "        \n",
    "        if ( hi == 0 ):\n",
    "            wrf_dbz = wrf_dbz_3hr\n",
    "        else:\n",
    "            wrf_dbz = xr.concat([wrf_dbz, wrf_dbz_3hr], dim='TimeDim')\n",
    "\n",
    "    # print(wrf_dbz)\n",
    "            \n",
    "    ## Set output dataset:\n",
    "    wrf_dataset_out = xr.open_dataset(file_name_dict['P'])    \n",
    "      \n",
    "    ## Add dBZ to output dataset:\n",
    "    wrf_dataset_out['dBZ'] = (['Time', 'bottom_top', 'south_north', 'west_east'], wrf_dbz)\n",
    "    #print(wrf_dataset_out)\n",
    "    \n",
    "    ## Drop P from the output dataset:\n",
    "    wrf_dataset_out = wrf_dataset_out.drop_vars('P')\n",
    "            \n",
    "    ## Unstagger Z vertical grids:\n",
    "    # wrf_var_Z_unstag = wrf.destagger(getvar(Dataset(file_name_dict['Z']), 'Z', timeidx=hi, meta=False), 0)\n",
    "\n",
    "    ## Get AGL:\n",
    "    # wrf_var_Z_AGL = wrf.g_geoht.get_height_agl(Dataset(file_name_dict['Z']), 'Z', meta=False)\n",
    "\n",
    "    ## Add Z and dBZ into dataset of P:\n",
    "    # wrf_dataset_P_Z_dBZ = xr.open_dataset(file_name_dict['P']).isel(Time = hi)\n",
    "    # wrf_dataset_out = xr.open_dataset(file_name_dict['P'])\n",
    "    # wrf_dataset_out['dBZ'] = (['bottom_top', 'south_north', 'west_east'], wrf_dbz)\n",
    "    \n",
    "    # wrf_dataset_P_Z_dBZ['TK'] = (['bottom_top', 'south_north', 'west_east'], wrf_vars['TK'])\n",
    "    # wrf_dataset_P_Z_dBZ['Z'] = (['bottom_top', 'south_north', 'west_east'], wrf_var_Z_unstag)\n",
    "        \n",
    "    ## Calculate Z using the U.S. standard atmosphere & Hypsometric eqn.:\n",
    "    # Z_standard = mpcalc.pressure_to_height_std((wrf_dataset_P_Z_dBZ['P'].values) * units.units.Pa)\n",
    "    # wrf_dataset_P_Z_dBZ['Z_standard'] = (['bottom_top', 'south_north', 'west_east'], Z_standard)\n",
    "\n",
    "    ## Set coordinates and dimensions:\n",
    "\n",
    "    ## Set output file path and name:\n",
    "    output_path_1 = '/glade/u/home/hungjui/2scratch/DATA_WRF_CONUS_1_dBZ_v1.0/' + wrf_sim_type\n",
    "    # output_path_2 = '/20130913'\n",
    "    output_path_2 = '/{}'.format(file_date_time.strftime('%Y'))\n",
    "    output_file_name = set_output_name(file_date_time)\n",
    "    wrf_dataset_out.to_netcdf(output_path_1 + output_path_2 + output_file_name)\n",
    "        \n",
    "    print('Finish this date.')\n",
    "        "
   ]
  },
  {
   "cell_type": "markdown",
   "id": "fc087e98-3db1-4f8e-9ee7-994dfc6c2e7e",
   "metadata": {},
   "source": [
    "### Main Program:"
   ]
  },
  {
   "cell_type": "code",
   "execution_count": 7,
   "id": "cf47bd92-5581-4af6-8e58-f72e49f4e50c",
   "metadata": {},
   "outputs": [
    {
     "name": "stdout",
     "output_type": "stream",
     "text": [
      "Processing: 20051227 0 |  1 |  2 |  3 |  4 |  5 |  6 |  7 |  Finish this date.\n",
      "Processing: 20051228 0 |  1 |  2 |  3 |  4 |  5 |  6 |  7 |  Finish this date.\n",
      "Processing: 20051229 0 |  1 |  2 |  3 |  4 |  5 |  6 |  7 |  Finish this date.\n",
      "Processing: 20051230 0 |  1 |  2 |  3 |  4 |  5 |  6 |  7 |  Finish this date.\n",
      "Processing: 20051231 0 |  1 |  2 |  3 |  4 |  5 |  6 |  7 |  Finish this date.\n",
      "RUNTIME：1141.574093 SEC\n",
      "RUNTIME：19.026235 MIN\n",
      "RUNTIME：0.317104 HOUR\n"
     ]
    }
   ],
   "source": [
    "start = time.time()\n",
    "\n",
    "## WRF Model Simulation Category:\n",
    "wrf_sim_type = 'CTRL3D'\n",
    "# wrf_sim_type = 'PGW3D'\n",
    "\n",
    "## Loop through a period:\n",
    "target_date_range = pd.date_range(start='2005-12-27', end='2005-12-31', tz=pytz.utc)\n",
    "\n",
    "for dayi in target_date_range:\n",
    "    \n",
    "    main_function(dayi)\n",
    "    #main_calc = delayed(main_function)(dayi)\n",
    "    \n",
    "# main_calc.compute()\n",
    "# main_calc.visualize()\n",
    "\n",
    "end = time.time()\n",
    "print(\"RUNTIME：%f SEC\" % (end - start))\n",
    "print(\"RUNTIME：%f MIN\" % ((end - start)/60))\n",
    "print(\"RUNTIME：%f HOUR\" % ((end - start)/3600))"
   ]
  },
  {
   "cell_type": "code",
   "execution_count": 73,
   "id": "689c4e20-46d1-4459-8d88-b906999deee9",
   "metadata": {},
   "outputs": [
    {
     "name": "stdin",
     "output_type": "stream",
     "text": [
      "Once deleted, variables cannot be recovered. Proceed (y/[n])?  y\n"
     ]
    }
   ],
   "source": [
    "%reset"
   ]
  },
  {
   "cell_type": "code",
   "execution_count": null,
   "id": "e464604e-9068-4b01-b4f3-d462bbfec819",
   "metadata": {},
   "outputs": [],
   "source": []
  }
 ],
 "metadata": {
  "kernelspec": {
   "display_name": "NPL-3.7.9",
   "language": "python",
   "name": "npl-3.7.9"
  },
  "language_info": {
   "codemirror_mode": {
    "name": "ipython",
    "version": 3
   },
   "file_extension": ".py",
   "mimetype": "text/x-python",
   "name": "python",
   "nbconvert_exporter": "python",
   "pygments_lexer": "ipython3",
   "version": "3.7.9"
  }
 },
 "nbformat": 4,
 "nbformat_minor": 5
}
