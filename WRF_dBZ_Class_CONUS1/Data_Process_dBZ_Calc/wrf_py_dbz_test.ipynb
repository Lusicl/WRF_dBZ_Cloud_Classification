{
 "cells": [
  {
   "cell_type": "markdown",
   "id": "869fb837-0d1f-4790-9318-8aff52b75ef9",
   "metadata": {},
   "source": [
    "## Retrieve 3D Reflectivity from WRF Simulations using WRF-Python. \n",
    "\n",
    "**For [High Resolution WRF Simulations of the Current and Future Climate of North America](https://rda.ucar.edu/datasets/ds612.0/).**\n",
    "\n",
    "**Hungjui Yu 20210817**"
   ]
  },
  {
   "cell_type": "code",
   "execution_count": 3,
   "id": "70de2b4e-ad2a-429f-ad4d-c27561e36fad",
   "metadata": {},
   "outputs": [
    {
     "name": "stdin",
     "output_type": "stream",
     "text": [
      "Once deleted, variables cannot be recovered. Proceed (y/[n])?  y\n"
     ]
    }
   ],
   "source": [
    "%reset\n",
    "import sys\n",
    "import time\n",
    "import datetime as dt\n",
    "import pytz\n",
    "from netCDF4 import Dataset\n",
    "import numpy as np\n",
    "import xarray as xr\n",
    "import pandas as pd\n",
    "import wrf\n",
    "from wrf import (getvar, dbz, extract_times, destagger)\n",
    "# import metpy\n",
    "# import metpy.calc as mpcalc\n",
    "# import metpy.units as units\n",
    "# print(metpy.__version__)\n",
    "\n",
    "# import dask\n"
   ]
  },
  {
   "cell_type": "markdown",
   "id": "0f64af1f-a06e-4f86-a90c-a20ba4da7ad3",
   "metadata": {},
   "source": [
    "**Set input files paths and names:**"
   ]
  },
  {
   "cell_type": "code",
   "execution_count": 4,
   "id": "3f06ea2c-4b38-4bdc-9459-a47621e73e76",
   "metadata": {},
   "outputs": [],
   "source": [
    "def set_input_names(file_date):\n",
    "\n",
    "    file_path_1 = '/gpfs/fs1/collections/rda/data/ds612.0'\n",
    "    file_path_2 = '/CTRL3D'\n",
    "    file_path_3 = '/{}'.format(file_date.strftime('%Y'))\n",
    "\n",
    "    file_names = dict( P = file_path_1 + file_path_2 + file_path_3 + '/wrf3d_d01_CTRL_P_{}.nc'.format(file_date.strftime('%Y%m%d')) \\\n",
    "                     , TK = file_path_1 + file_path_2 + file_path_3 + '/wrf3d_d01_CTRL_TK_{}.nc'.format(file_date.strftime('%Y%m%d')) \\\n",
    "                     , QVAPOR = file_path_1 + file_path_2 + file_path_3 + '/wrf3d_d01_CTRL_QVAPOR_{}.nc'.format(file_date.strftime('%Y%m%d')) \\\n",
    "                     , QRAIN = file_path_1 + file_path_2 + file_path_3 + '/wrf3d_d01_CTRL_QRAIN_{}.nc'.format(file_date.strftime('%Y%m')) \\\n",
    "                     , QSNOW = file_path_1 + file_path_2 + file_path_3 + '/wrf3d_d01_CTRL_QSNOW_{}.nc'.format(file_date.strftime('%Y%m%d')) \\\n",
    "                     , QGRAUP = file_path_1 + file_path_2 + file_path_3 + '/wrf3d_d01_CTRL_QGRAUP_{}.nc'.format(file_date.strftime('%Y%m')) \\\n",
    "                     , Z = file_path_1 + file_path_2 + file_path_3 + '/wrf3d_d01_CTRL_Z_{}.nc'.format(file_date.strftime('%Y%m%d')) \\\n",
    "                     )\n",
    "    \n",
    "    return file_names\n",
    "\n",
    "# file_name_list = set_file_paths_names(file_date_time)\n",
    "# print(file_name_list)"
   ]
  },
  {
   "cell_type": "markdown",
   "id": "5fba73ed-e4ab-4889-8e26-a7f9df4144c5",
   "metadata": {},
   "source": [
    "**Get wrf output variables:**"
   ]
  },
  {
   "cell_type": "code",
   "execution_count": 5,
   "id": "1c600816-e8eb-4a48-bf0c-1b3a66b48be4",
   "metadata": {},
   "outputs": [],
   "source": [
    "def get_wrf_vars(file_name, var_name, time_index):\n",
    "\n",
    "    wrf_file = Dataset(file_name)\n",
    "    # wrf_var = getvar(wrf_file, wrf_var_to_read, timeidx=time_index_1) # This doesn't work for CONUS run files.\n",
    "    wrf_var = getvar(wrf_file, var_name, timeidx=time_index, meta=False)\n",
    "    # wrf_var_time = wrf.extract_times(wrf_file, timeidx=time_index)\n",
    "    # print(wrf_var_time)\n",
    "    \n",
    "    return wrf_var"
   ]
  },
  {
   "cell_type": "markdown",
   "id": "fac639f9-67db-4feb-a209-4e4e4bfec135",
   "metadata": {},
   "source": [
    "**Calculation for dBZ:**"
   ]
  },
  {
   "cell_type": "code",
   "execution_count": 6,
   "id": "d2abb3d6-03c9-4614-a8c6-25962e6cf363",
   "metadata": {},
   "outputs": [],
   "source": [
    "def calculate_wrf_dbz(wrf_pres, wrf_temp, wrf_qv, wrf_qr, wrf_qs, wrf_qg):\n",
    "    \n",
    "    wrf_dbz = dbz(wrf_pres \\\n",
    "                , wrf_temp \\\n",
    "                , wrf_qv \\\n",
    "                , wrf_qr \\\n",
    "                , wrf_qs \\\n",
    "                , wrf_qg \\\n",
    "                # , use_varint=True \\\n",
    "                , use_liqskin=False \\\n",
    "                , meta=True \\\n",
    "                 )\n",
    "    \n",
    "    return wrf_dbz"
   ]
  },
  {
   "cell_type": "markdown",
   "id": "200f51dc-7717-47e4-bcda-c66574c92d70",
   "metadata": {},
   "source": [
    "**Set output file path and name:**"
   ]
  },
  {
   "cell_type": "code",
   "execution_count": 7,
   "id": "7511720e-d0c5-4065-b9db-40eb9467791e",
   "metadata": {},
   "outputs": [],
   "source": [
    "def set_output_name(output_file_datetime):\n",
    "\n",
    "    # output_path = '/glade/u/home/hungjui/2scratch/DATA_WRF_CONUS_1_dBZ_v1.0'\n",
    "    \n",
    "    output_time = pd.to_datetime(output_file_datetime).strftime('%Y%m%d%H') # If input time type is numpy.datetime64:\n",
    "    \n",
    "    # output_name = output_path + '/wrf3d_d01_dbz_{}.nc'.format(file_date_time.strftime('%Y%m%d%H'))\n",
    "    # output_name = output_path + '/wrf3d_d01_dbz_{}.nc'.format(output_time)\n",
    "    output_name = '/wrf3d_d01_dbz_{}.nc'.format(output_time)\n",
    "\n",
    "    return output_name\n"
   ]
  },
  {
   "cell_type": "markdown",
   "id": "77a356da-81e0-4462-95b7-6814886ba254",
   "metadata": {},
   "source": [
    "### Main Function:"
   ]
  },
  {
   "cell_type": "code",
   "execution_count": 8,
   "id": "b272ee31-b09e-4612-b587-a76bcee7ca80",
   "metadata": {},
   "outputs": [],
   "source": [
    "def main_function(file_date_time):\n",
    "    \n",
    "    ## Set file datetime:\n",
    "    # file_date_time = dt.datetime(2013, 9, 13, 0, 0, 0, tzinfo=pytz.utc)\n",
    "    print('Processing: {}'.format(file_date_time.strftime('%Y%m%d')), end=' ')\n",
    "    \n",
    "    ## Set input files paths and names:\n",
    "    file_name_dict = set_input_names(file_date_time)\n",
    "\n",
    "    ## Get the 3-hourly time list from P and QRAIN files:\n",
    "    wrf_3hour_list_1 = wrf.extract_times(Dataset(file_name_dict['P']), timeidx=wrf.ALL_TIMES, meta=False, do_xtime=False)\n",
    "    wrf_3hour_list_2 = wrf.extract_times(Dataset(file_name_dict['QRAIN']), timeidx=wrf.ALL_TIMES, meta=False, do_xtime=False)\n",
    "\n",
    "    ## Set wrf variable list for reflectivity retrieval:\n",
    "    wrf_vars_list = ['P', 'TK', 'QVAPOR', 'QRAIN', 'QSNOW', 'QGRAUP']\n",
    "\n",
    "    for hi in range(len(wrf_3hour_list_1)):\n",
    "        \n",
    "        print('.', end=' ')\n",
    "\n",
    "        ## Get the index for common time in different files (every 3-hour):\n",
    "        common_index_2 = np.intersect1d(wrf_3hour_list_1[hi], wrf_3hour_list_2, return_indices=True)[2][0]\n",
    "\n",
    "        ## Get wrf output variables:\n",
    "        wrf_vars = {}\n",
    "        for vname in wrf_vars_list:\n",
    "\n",
    "            file_name = file_name_dict[vname]\n",
    "\n",
    "            if ( vname in ['QRAIN', 'QGRAUP'] ):\n",
    "                wrf_vars['{}'.format(vname)] = get_wrf_vars(file_name, vname, common_index_2)\n",
    "                # wrf_vars['{}'.format(vname)] = xr.open_dataset(file_name)\n",
    "            #elif ()\n",
    "            else:\n",
    "                wrf_vars['{}'.format(vname)] = get_wrf_vars(file_name, vname, hi)\n",
    "                # wrf_vars['{}'.format(vname)] = xr.open_dataset(file_name)\n",
    "\n",
    "\n",
    "        ## Calculation for dBZ:\n",
    "        wrf_dbz = calculate_wrf_dbz(wrf_vars['P'],\n",
    "                                    wrf_vars['TK'], \n",
    "                                    wrf_vars['QVAPOR'],\n",
    "                                    wrf_vars['QRAIN'],\n",
    "                                    wrf_vars['QSNOW'],\n",
    "                                    wrf_vars['QGRAUP']\n",
    "                                    ) # .to_dataset()\n",
    "\n",
    "        ## Unstagger Z vertical grids:\n",
    "        # wrf_dataset_Z = Dataset(file_name_dict['Z'])\n",
    "        # wrf_var_Z = getvar(Dataset(file_name_dict['Z']), 'Z', timeidx=hi, meta=False)\n",
    "        wrf_var_Z_unstag = wrf.destagger(getvar(Dataset(file_name_dict['Z']), 'Z', timeidx=hi, meta=False), 0)\n",
    "\n",
    "        ## Get AGL:\n",
    "        # wrf_var_Z_AGL = wrf.g_geoht.get_height_agl(Dataset(file_name_dict['Z']), 'Z', meta=False)\n",
    "\n",
    "        ## Add Z and dBZ into dataset of P:\n",
    "        wrf_dataset_P_Z_dBZ = xr.open_dataset(file_name_dict['P']).isel(Time = hi)\n",
    "        wrf_dataset_P_Z_dBZ['TK'] = (['bottom_top', 'south_north', 'west_east'], wrf_vars['TK'])\n",
    "        wrf_dataset_P_Z_dBZ['Z'] = (['bottom_top', 'south_north', 'west_east'], wrf_var_Z_unstag)\n",
    "        wrf_dataset_P_Z_dBZ['dBZ'] = (['bottom_top', 'south_north', 'west_east'], wrf_dbz)\n",
    "\n",
    "        ## Calculate Z using the U.S. standard atmosphere & Hypsometric eqn.:\n",
    "        # Z_standard = mpcalc.pressure_to_height_std((wrf_dataset_P_Z_dBZ['P'].values) * units.units.Pa)\n",
    "        # wrf_dataset_P_Z_dBZ['Z_standard'] = (['bottom_top', 'south_north', 'west_east'], Z_standard)\n",
    "\n",
    "        ## Set coordinates and dimensions:\n",
    "\n",
    "        ## Set output file path and name:\n",
    "        output_path_1 = '/glade/u/home/hungjui/2scratch/DATA_WRF_CONUS_1_dBZ_v1.0/' + wrf_sim_type\n",
    "        # output_path_2 = '/20130913'\n",
    "        output_path_2 = '/{}'.format(file_date_time.strftime('%Y'))\n",
    "        output_file_name = set_output_name(wrf_3hour_list_1[hi])\n",
    "        wrf_dataset_P_Z_dBZ.to_netcdf(output_path_1 + output_path_2 + output_file_name)\n",
    "        \n",
    "    print('Finish this date.')\n",
    "        "
   ]
  },
  {
   "cell_type": "markdown",
   "id": "fc087e98-3db1-4f8e-9ee7-994dfc6c2e7e",
   "metadata": {},
   "source": [
    "### Main Program:"
   ]
  },
  {
   "cell_type": "code",
   "execution_count": 9,
   "id": "cf47bd92-5581-4af6-8e58-f72e49f4e50c",
   "metadata": {},
   "outputs": [
    {
     "name": "stdout",
     "output_type": "stream",
     "text": [
      "Processing: 20130801 . . . . . . . . Finish this date.\n",
      "Processing: 20130802 . . . . . . . . Finish this date.\n",
      "Processing: 20130803 . . . . . . . . Finish this date.\n",
      "Processing: 20130804 . . . . . . . . Finish this date.\n",
      "Processing: 20130805 . . . . . . . . Finish this date.\n",
      "Processing: 20130806 . . . . . . . . Finish this date.\n",
      "Processing: 20130807 . . . . . . . . Finish this date.\n",
      "Processing: 20130808 . . . . . . . . Finish this date.\n",
      "Processing: 20130809 . . . . . . . . Finish this date.\n",
      "Processing: 20130810 . . . . . . . . Finish this date.\n",
      "Processing: 20130811 . . . . . . . . Finish this date.\n",
      "Processing: 20130812 . . . . . . . . Finish this date.\n",
      "Processing: 20130813 . . . . . . . . Finish this date.\n",
      "Processing: 20130814 . . . . . . . . Finish this date.\n",
      "Processing: 20130815 . . . . . . . . Finish this date.\n",
      "Processing: 20130816 . . . . . . . . Finish this date.\n",
      "Processing: 20130817 . . . . . . . . Finish this date.\n",
      "Processing: 20130818 . . . . . . . . Finish this date.\n",
      "Processing: 20130819 . . . . . . . . Finish this date.\n",
      "Processing: 20130820 . . . . . . . . Finish this date.\n",
      "Processing: 20130821 . . . . . . . . Finish this date.\n",
      "Processing: 20130822 . . . . . . . . Finish this date.\n",
      "Processing: 20130823 . . . . . . . . Finish this date.\n",
      "Processing: 20130824 . . . . . . . . Finish this date.\n",
      "Processing: 20130825 . . . . . . . . Finish this date.\n",
      "Processing: 20130826 . . . . . . . . Finish this date.\n",
      "Processing: 20130827 . . . . . . . . Finish this date.\n",
      "Processing: 20130828 . . . . . . . . Finish this date.\n",
      "Processing: 20130829 . . . . . . . . Finish this date.\n",
      "Processing: 20130830 . . . . . . . . Finish this date.\n",
      "Processing: 20130831 . . . . . . . . Finish this date.\n",
      "Processing: 20130901 . . . . . . . . Finish this date.\n",
      "Processing: 20130902 . . . . . . . . Finish this date.\n",
      "Processing: 20130903 . . . . . . . . Finish this date.\n",
      "Processing: 20130904 . . . . . . . . Finish this date.\n",
      "Processing: 20130905 . . . . . . . . Finish this date.\n",
      "Processing: 20130906 . . . . . . . . Finish this date.\n",
      "Processing: 20130907 . . . . . . . . Finish this date.\n",
      "Processing: 20130908 . . . . . . . . Finish this date.\n",
      "Processing: 20130909 . . . . . . . . Finish this date.\n",
      "Processing: 20130910 . . . . . . . . Finish this date.\n",
      "Processing: 20130911 . . . . . . . . Finish this date.\n",
      "Processing: 20130912 . . . . . . . . Finish this date.\n",
      "Processing: 20130913 . . . . . . . . Finish this date.\n",
      "Processing: 20130914 . . . . . . . . Finish this date.\n",
      "Processing: 20130915 . . . . . . . . Finish this date.\n",
      "Processing: 20130916 . . . . . . . . Finish this date.\n",
      "Processing: 20130917 . . . . . . . . Finish this date.\n",
      "Processing: 20130918 . . . . . . . . Finish this date.\n",
      "Processing: 20130919 . . . . . . . . Finish this date.\n",
      "Processing: 20130920 . . . . . . . . Finish this date.\n",
      "Processing: 20130921 . . . . . . . . Finish this date.\n",
      "Processing: 20130922 . . . . . . . . Finish this date.\n",
      "Processing: 20130923 . . . . . . . . Finish this date.\n",
      "Processing: 20130924 . . . . . . . . Finish this date.\n",
      "Processing: 20130925 . . . . . . . . Finish this date.\n",
      "Processing: 20130926 . . . . . . . . Finish this date.\n",
      "Processing: 20130927 . . . . . . . . Finish this date.\n",
      "Processing: 20130928 . . . . . . . . Finish this date.\n",
      "Processing: 20130929 . . . . . . . . Finish this date.\n",
      "Processing: 20130930 . . . . . . . . Finish this date.\n",
      "RUNTIME：18059.046038 SEC\n",
      "RUNTIME：300.984101 MIN\n",
      "RUNTIME：5.016402 HOUR\n"
     ]
    }
   ],
   "source": [
    "start = time.time()\n",
    "\n",
    "## WRF Model Simulation Category:\n",
    "wrf_sim_type = 'CTRL3D'\n",
    "\n",
    "## Loop through a period:\n",
    "target_date_range = pd.date_range(start='2013-08-01', end='2013-9-30', tz=pytz.utc)\n",
    "\n",
    "for dayi in target_date_range:\n",
    "    \n",
    "    main_function(dayi)\n",
    "    #main_calc = delayed(main_function)(dayi)\n",
    "    \n",
    "# main_calc.compute()\n",
    "# main_calc.visualize()\n",
    "\n",
    "end = time.time()\n",
    "print(\"RUNTIME：%f SEC\" % (end - start))\n",
    "print(\"RUNTIME：%f MIN\" % ((end - start)/60))\n",
    "print(\"RUNTIME：%f HOUR\" % ((end - start)/3600))"
   ]
  },
  {
   "cell_type": "code",
   "execution_count": null,
   "id": "fcf65bca-5ee7-49d0-a647-cceea140c95d",
   "metadata": {},
   "outputs": [],
   "source": []
  }
 ],
 "metadata": {
  "kernelspec": {
   "display_name": "NPL-3.7.9",
   "language": "python",
   "name": "npl-3.7.9"
  },
  "language_info": {
   "codemirror_mode": {
    "name": "ipython",
    "version": 3
   },
   "file_extension": ".py",
   "mimetype": "text/x-python",
   "name": "python",
   "nbconvert_exporter": "python",
   "pygments_lexer": "ipython3",
   "version": "3.7.9"
  }
 },
 "nbformat": 4,
 "nbformat_minor": 5
}
