{
 "cells": [
  {
   "cell_type": "markdown",
   "id": "d972eb73-1933-4d68-a921-0e191f106650",
   "metadata": {},
   "source": [
    "Retrieve 3D reflectivity from wrf simulations by using wrf-python lib. \n",
    "For WRF_Hires CONUS (1) simulations.\n",
    "\n",
    "Hungjui Yu 20210712"
   ]
  },
  {
   "cell_type": "code",
   "execution_count": 15,
   "id": "6cc0258f-a1d6-4e53-a233-57b2b5b83158",
   "metadata": {},
   "outputs": [
    {
     "name": "stdin",
     "output_type": "stream",
     "text": [
      "Once deleted, variables cannot be recovered. Proceed (y/[n])?  y\n"
     ]
    }
   ],
   "source": [
    "%reset\n",
    "\n",
    "import time\n",
    "import datetime as dt\n",
    "from netCDF4 import Dataset\n",
    "from wrf import (getvar, dbz)\n",
    "import xarray as xr"
   ]
  },
  {
   "cell_type": "code",
   "execution_count": null,
   "id": "052781b6-85c3-465c-b4fc-86d80260e9bb",
   "metadata": {},
   "outputs": [],
   "source": [
    "# Set file datetime:\n",
    "\n",
    "file_date = dt.datetime(2000, 10, 1)"
   ]
  },
  {
   "cell_type": "code",
   "execution_count": 16,
   "id": "4c46d8e5-ae3b-4bb6-80b6-70d96fd81f02",
   "metadata": {},
   "outputs": [],
   "source": [
    "# Set input files paths and names:\n",
    "\n",
    "file_path_1 = '/gpfs/fs1/collections/rda/data/ds612.0'\n",
    "\n",
    "file_path_2 = '/CTRL3D'\n",
    "\n",
    "file_path_3 = '/{}'\n",
    "\n",
    "file_name_P = file_path_1 + file_path_2 + '/wrf3d_d01_CTRL_P_{}.nc'.format(file_date.strftime('%Y%m%d'))\n",
    "file_name_T = file_path_1 + file_path_2 + '/wrf3d_d01_CTRL_TK_{}.nc'.format(file_date.strftime('%Y%m%d'))\n",
    "\n",
    "file_name_QV = file_path_1 + file_path_2 + '/wrf3d_d01_CTRL_QVAPOR_{}.nc'.format(file_date.strftime('%Y%m%d'))\n",
    "\n",
    "file_name_QR = file_path_1 + file_path_2 + '/wrf3d_d01_CTRL_QRAIN_{}.nc'.format(file_date.strftime('%Y%m'))\n",
    "\n",
    "file_name_QS = file_path_1 + file_path_2 + '/wrf3d_d01_CTRL_QSNOW_{}.nc'.format(file_date.strftime('%Y%m%d'))\n",
    "\n",
    "file_name_QG = file_path_1 + file_path_2 + '/wrf3d_d01_CTRL_QGRAUP_{}.nc'.format(file_date.strftime('%Y%m'))\n",
    "\n",
    "# print(file_date.strftime('%Y%m%d'))\n",
    "# print(file_name_QG)"
   ]
  },
  {
   "cell_type": "code",
   "execution_count": 17,
   "id": "571307b7-3abe-4d79-b66b-b7371b7c50b9",
   "metadata": {},
   "outputs": [
    {
     "name": "stdout",
     "output_type": "stream",
     "text": [
      "/glade/u/home/hungjui/2scratch/DATA_test/wrf3d_d01_dbz_20001001.nc\n"
     ]
    }
   ],
   "source": [
    "# Set output files paths and names:\n",
    "\n",
    "output_path = '/glade/u/home/hungjui/2scratch/DATA_test'\n",
    "\n",
    "output_name = output_path + '/wrf3d_d01_dbz_{}.nc'.format(file_date.strftime('%Y%m%d'))\n",
    "\n",
    "print(output_name)"
   ]
  },
  {
   "cell_type": "code",
   "execution_count": 18,
   "id": "0864e619-d149-4658-a00d-d162e336b2e1",
   "metadata": {},
   "outputs": [
    {
     "ename": "FileNotFoundError",
     "evalue": "[Errno 2] No such file or directory: b'/gpfs/fs1/collections/rda/data/ds612.0/CTRL3D/wrf3d_d01_CTRL_P_20001001.nc'",
     "output_type": "error",
     "traceback": [
      "\u001b[0;31m---------------------------------------------------------------------------\u001b[0m",
      "\u001b[0;31mFileNotFoundError\u001b[0m                         Traceback (most recent call last)",
      "\u001b[0;32m<ipython-input-18-701c06e165c6>\u001b[0m in \u001b[0;36m<module>\u001b[0;34m\u001b[0m\n\u001b[1;32m     43\u001b[0m     \u001b[0;32mreturn\u001b[0m \u001b[0mwrf_qg\u001b[0m\u001b[0;34m\u001b[0m\u001b[0;34m\u001b[0m\u001b[0m\n\u001b[1;32m     44\u001b[0m \u001b[0;34m\u001b[0m\u001b[0m\n\u001b[0;32m---> 45\u001b[0;31m \u001b[0mwrf_P\u001b[0m \u001b[0;34m=\u001b[0m \u001b[0mget_wrf_var_P\u001b[0m\u001b[0;34m(\u001b[0m\u001b[0mfile_name_P\u001b[0m\u001b[0;34m,\u001b[0m \u001b[0;36m0\u001b[0m\u001b[0;34m)\u001b[0m\u001b[0;34m\u001b[0m\u001b[0;34m\u001b[0m\u001b[0m\n\u001b[0m\u001b[1;32m     46\u001b[0m \u001b[0;34m\u001b[0m\u001b[0m\n\u001b[1;32m     47\u001b[0m \u001b[0mprint\u001b[0m\u001b[0;34m(\u001b[0m\u001b[0mwrf_P\u001b[0m\u001b[0;34m)\u001b[0m\u001b[0;34m\u001b[0m\u001b[0;34m\u001b[0m\u001b[0m\n",
      "\u001b[0;32m<ipython-input-18-701c06e165c6>\u001b[0m in \u001b[0;36mget_wrf_var_P\u001b[0;34m(file_name, time_index_1)\u001b[0m\n\u001b[1;32m      3\u001b[0m \u001b[0;32mdef\u001b[0m \u001b[0mget_wrf_var_P\u001b[0m\u001b[0;34m(\u001b[0m\u001b[0mfile_name\u001b[0m\u001b[0;34m,\u001b[0m \u001b[0mtime_index_1\u001b[0m\u001b[0;34m)\u001b[0m\u001b[0;34m:\u001b[0m\u001b[0;34m\u001b[0m\u001b[0;34m\u001b[0m\u001b[0m\n\u001b[1;32m      4\u001b[0m \u001b[0;34m\u001b[0m\u001b[0m\n\u001b[0;32m----> 5\u001b[0;31m     \u001b[0mwrf_file\u001b[0m \u001b[0;34m=\u001b[0m \u001b[0mDataset\u001b[0m\u001b[0;34m(\u001b[0m\u001b[0mfile_name\u001b[0m\u001b[0;34m)\u001b[0m\u001b[0;34m\u001b[0m\u001b[0;34m\u001b[0m\u001b[0m\n\u001b[0m\u001b[1;32m      6\u001b[0m     \u001b[0mwrf_pres\u001b[0m \u001b[0;34m=\u001b[0m \u001b[0mgetvar\u001b[0m\u001b[0;34m(\u001b[0m\u001b[0mwrf_file\u001b[0m\u001b[0;34m,\u001b[0m \u001b[0;34m'P'\u001b[0m\u001b[0;34m,\u001b[0m \u001b[0mtimeidx\u001b[0m\u001b[0;34m=\u001b[0m\u001b[0mtime_index_1\u001b[0m\u001b[0;34m)\u001b[0m \u001b[0;31m# retrieve pressure in Pa\u001b[0m\u001b[0;34m\u001b[0m\u001b[0;34m\u001b[0m\u001b[0m\n\u001b[1;32m      7\u001b[0m \u001b[0;34m\u001b[0m\u001b[0m\n",
      "\u001b[0;32mnetCDF4/_netCDF4.pyx\u001b[0m in \u001b[0;36mnetCDF4._netCDF4.Dataset.__init__\u001b[0;34m()\u001b[0m\n",
      "\u001b[0;32mnetCDF4/_netCDF4.pyx\u001b[0m in \u001b[0;36mnetCDF4._netCDF4._ensure_nc_success\u001b[0;34m()\u001b[0m\n",
      "\u001b[0;31mFileNotFoundError\u001b[0m: [Errno 2] No such file or directory: b'/gpfs/fs1/collections/rda/data/ds612.0/CTRL3D/wrf3d_d01_CTRL_P_20001001.nc'"
     ]
    }
   ],
   "source": [
    "# Get wrf output variables:\n",
    "\n",
    "def get_wrf_var_P(file_name, time_index_1):\n",
    "\n",
    "    wrf_file = Dataset(file_name)\n",
    "    wrf_pres = getvar(wrf_file, 'P', timeidx=time_index_1) # retrieve pressure in Pa\n",
    "    \n",
    "    return wrf_pres\n",
    "\n",
    "def get_wrf_var_T(file_name, time_index_1):\n",
    "\n",
    "    wrf_file = Dataset(file_name)\n",
    "    wrf_temp = getvar(wrf_file, 'TK', timeidx=time_index_1) # retrieve pressure in Pa\n",
    "    \n",
    "    return wrf_temp\n",
    "\n",
    "def get_wrf_var_QV(file_name, time_index_1):\n",
    "\n",
    "    wrf_file = Dataset(file_name)\n",
    "    wrf_qv = getvar(wrf_file, 'QVAPOR', timeidx=time_index_1) # retrieve pressure in Pa\n",
    "    \n",
    "    return wrf_qv\n",
    "\n",
    "def get_wrf_var_QR(file_name, time_index_1):\n",
    "\n",
    "    wrf_file = Dataset(file_name)\n",
    "    wrf_qr = getvar(wrf_file, 'QRAIN', timeidx=time_index_1) # retrieve pressure in Pa\n",
    "    \n",
    "    return wrf_qr\n",
    "\n",
    "def get_wrf_var_QS(file_name, time_index_1):\n",
    "\n",
    "    wrf_file = Dataset(file_name)\n",
    "    wrf_qs = getvar(wrf_file, 'QSNOW', timeidx=time_index_1) # retrieve pressure in Pa\n",
    "    \n",
    "    return wrf_qs\n",
    "\n",
    "def get_wrf_var_QG(file_name, time_index_1):\n",
    "\n",
    "    wrf_file = Dataset(file_name)\n",
    "    wrf_qg = getvar(wrf_file, 'QGRAUP', timeidx=time_index_1) # retrieve pressure in Pa\n",
    "    \n",
    "    return wrf_qg\n",
    "\n",
    "wrf_P = get_wrf_var_P(file_name_P, 0)\n",
    "\n",
    "print(wrf_P)"
   ]
  },
  {
   "cell_type": "code",
   "execution_count": null,
   "id": "c37b4981-15ec-4a93-8c00-b075bbf3356f",
   "metadata": {},
   "outputs": [],
   "source": []
  }
 ],
 "metadata": {
  "kernelspec": {
   "display_name": "NPL3 (Python_env)",
   "language": "python",
   "name": "npl3-python_env"
  },
  "language_info": {
   "codemirror_mode": {
    "name": "ipython",
    "version": 3
   },
   "file_extension": ".py",
   "mimetype": "text/x-python",
   "name": "python",
   "nbconvert_exporter": "python",
   "pygments_lexer": "ipython3",
   "version": "3.7.9"
  }
 },
 "nbformat": 4,
 "nbformat_minor": 5
}
