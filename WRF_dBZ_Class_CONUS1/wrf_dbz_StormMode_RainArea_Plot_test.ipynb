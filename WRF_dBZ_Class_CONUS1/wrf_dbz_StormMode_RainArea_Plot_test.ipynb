{
 "cells": [
  {
   "cell_type": "markdown",
   "id": "869fb837-0d1f-4790-9318-8aff52b75ef9",
   "metadata": {},
   "source": [
    "## Storm Mode/Precipitation Type Classification for derived 3D dBZ of WRF Simulations. \n",
    "\n",
    "**Based on the Convective/Stratiform separation on the 12 $\\sigma$ level of reflectivity.**\n",
    "\n",
    "**Calculate the max. composite reflectivity instead of REFLC_10CM from CONUS1 runs.**\n",
    "\n",
    "**Storm Mode Classification starts from the Composite dBZ (Rain Area) identification, and add another mode: Shallow (Non-Deep) Convective Cores (SCC) to represent shallow conveciton.**\n",
    "\n",
    "**For [High Resolution WRF Simulations of the Current and Future Climate of North America](https://rda.ucar.edu/datasets/ds612.0/).**\n",
    "\n",
    "**Hungjui Yu 20211103**"
   ]
  },
  {
   "cell_type": "code",
   "execution_count": 110,
   "id": "70de2b4e-ad2a-429f-ad4d-c27561e36fad",
   "metadata": {},
   "outputs": [],
   "source": [
    "import sys\n",
    "# from shutil import copyfile\n",
    "import time\n",
    "import datetime as dt\n",
    "# import pytz\n",
    "from netCDF4 import Dataset # MFDataset\n",
    "import numpy as np\n",
    "from scipy.ndimage import label, generate_binary_structure\n",
    "import xarray as xr\n",
    "import wrf\n",
    "from wrf import (getvar, interplevel, destagger)\n",
    "\n",
    "import cartopy.crs as ccrs\n",
    "import cartopy.feature as cfeat\n",
    "import matplotlib as mpl\n",
    "import matplotlib.pyplot as plt\n",
    "\n",
    "modules_path = '/glade/work/hungjui/Research_Test/WRF_dBZ_Cloud_Classification/WRF_dBZ_Class_CONUS1/Modules'\n",
    "if ( modules_path not in sys.path ):\n",
    "    sys.path = [modules_path] + sys.path\n",
    "    # print(sys.path)\n",
    "    \n",
    "import storm_mode_class5 as stm"
   ]
  },
  {
   "cell_type": "markdown",
   "id": "0ec2d119-65c1-4337-8e32-4f1787d5c049",
   "metadata": {},
   "source": [
    "**Function: Set input files paths and names:**"
   ]
  },
  {
   "cell_type": "code",
   "execution_count": 111,
   "id": "4a6bd4b4-0304-4680-96d7-1dfda1271206",
   "metadata": {},
   "outputs": [],
   "source": [
    "def set_input_names(file_date):\n",
    "\n",
    "    file_path_1_conus = '/gpfs/fs1/collections/rda/data/ds612.0'\n",
    "    file_path_1_dbz = '/glade/scratch/hungjui/DATA_WRF_CONUS_1_dBZ_v1.0'\n",
    "    file_path_2 = '/' + wrf_sim_type # '/CTRL3D'\n",
    "    file_path_3 = '/{}'.format(file_date.strftime('%Y'))\n",
    "\n",
    "    file_names = dict( dbz = file_path_1_dbz\n",
    "                           + file_path_2 \n",
    "                           + '/20110427' # '/20130913' # file_path_3 \n",
    "                           + '/wrf3d_d01_' + wrf_sim_type[0:-2] + '_dbz_{}.nc'.format(file_date.strftime('%Y%m%d'))\n",
    "                       , Z = file_path_1_conus\n",
    "                           + file_path_2 \n",
    "                           + file_path_3 \n",
    "                           + '/wrf3d_d01_' + wrf_sim_type[0:-2] + '_Z_{}.nc'.format(file_date.strftime('%Y%m%d'))\n",
    "                     )\n",
    "    \n",
    "    return file_names"
   ]
  },
  {
   "cell_type": "markdown",
   "id": "e5356d44-ab08-415d-945e-0e5003ef3828",
   "metadata": {},
   "source": [
    "**Open & Derive data directly:**"
   ]
  },
  {
   "cell_type": "code",
   "execution_count": 112,
   "id": "d74676c1-c3df-48b0-8b94-626e17e4211e",
   "metadata": {},
   "outputs": [
    {
     "name": "stdout",
     "output_type": "stream",
     "text": [
      "{'dbz': '/glade/scratch/hungjui/DATA_WRF_CONUS_1_dBZ_v1.0/CTRL3D/20110427/wrf3d_d01_CTRL_dbz_20110427.nc', 'Z': '/gpfs/fs1/collections/rda/data/ds612.0/CTRL3D/2011/wrf3d_d01_CTRL_Z_20110427.nc'}\n"
     ]
    }
   ],
   "source": [
    "## Set wrf simulation type:\n",
    "wrf_sim_type = 'CTRL3D'\n",
    "# wrf_sim_type = 'PGW3D'\n",
    "\n",
    "## Set date time:\n",
    "case_date_time = dt.datetime(2011,4,27) \n",
    "# case_date_time = dt.datetime(2013,9,13) \n",
    "\n",
    "file_name_list = set_input_names(case_date_time)\n",
    "print(file_name_list)"
   ]
  },
  {
   "cell_type": "code",
   "execution_count": 113,
   "id": "fd73d407-5f9e-465b-bcfb-fcef865bdd9f",
   "metadata": {},
   "outputs": [],
   "source": [
    "## Set hour:\n",
    "## 0:00, 1:03, 2:06, 3:09, 4:12, 5:15, 6:18, 7:21\n",
    "time_hour_idx = 4\n",
    "\n",
    "## Get dBZ and CS mask data :\n",
    "ds_wrf_dbz = xr.open_dataset(file_name_list['dbz'])\n",
    "\n",
    "da_wrf_dbz = ds_wrf_dbz['dBZ'].isel(Time=time_hour_idx)\n",
    "da_wrf_CSmask = ds_wrf_dbz['CS_mask'].isel(Time=time_hour_idx)\n",
    "\n",
    "## Calculate the max. composite dBZ:\n",
    "da_wrf_reflc = da_wrf_dbz.max(dim='bottom_top')\n",
    "\n",
    "## Get geopotential height:\n",
    "data_wrf_z_unstag = wrf.destagger(getvar(Dataset(file_name_list['Z']), 'Z', timeidx=time_hour_idx, meta=False), 0)\n",
    "\n",
    "\n",
    "# da_wrf_dbz[0,:,:].plot()\n",
    "# da_wrf_reflc.plot()\n",
    "# print(data_wrf_z_unstag.shape)"
   ]
  },
  {
   "cell_type": "markdown",
   "id": "a23a992b-dae8-4cb1-b858-d4b9f3e513df",
   "metadata": {},
   "source": [
    "**Function: Reflectivity Geo-Height Interpolation (linearly):**"
   ]
  },
  {
   "cell_type": "code",
   "execution_count": 114,
   "id": "2476643d-6103-4039-a923-d001b35dab31",
   "metadata": {},
   "outputs": [],
   "source": [
    "def dbz_geoh_interp(refl, geoH, interp_lev_km):\n",
    "    \n",
    "    # # Use linear Z for interpolation:\n",
    "    refl_linear = 10**(refl/10.)\n",
    "    \n",
    "    ## Interpolation:\n",
    "    ## !!! convert interpolation level to the same as geo-H (meter) !!!\n",
    "    refl_linear_lev = interplevel(refl_linear, geoH, interp_lev_km*1000)\n",
    "    \n",
    "    ## Convert back to dBz after interpolation:\n",
    "    refl_lev = 10.0 * np.log10(refl_linear_lev)\n",
    "    \n",
    "    return refl_lev"
   ]
  },
  {
   "cell_type": "markdown",
   "id": "29d27359-9e8e-4d0a-ba3e-63859c2631a6",
   "metadata": {},
   "source": [
    "**Function: Storm Mode Classification:**"
   ]
  },
  {
   "cell_type": "code",
   "execution_count": 115,
   "id": "7578b7e1-037c-4b42-aeb3-b88656b586b9",
   "metadata": {},
   "outputs": [],
   "source": [
    "def storm_mode_class( refl, reflc, CS_mask\n",
    "                    , geoH\n",
    "                    , resolution_WRF = 4 # km grid spacing \n",
    "                    , dbz_threshold = 30 # 40 # dBZ\n",
    "                    , height_threshold = 8 # 10 # km\n",
    "                    , WCC_threshold = 800 # 1000 # km^2\n",
    "                    , BSR_threshold = 40000 # km^2\n",
    "                    ):\n",
    "    \n",
    "    ## ======================================================================\n",
    "    ## \n",
    "    ## Run:     storm_mode_class(da_wrf_dbz, da_wrf_reflc, da_wrf_CSmask, data_wrf_z_unstag)\n",
    "    ## \n",
    "    ## Input:\n",
    "    ## refl:    Derived 3D reflectivity\n",
    "    ## reflc:   Derived 2D max. reflectivity composite\n",
    "    ## CS_mask: 2D Convective/Stratifom mask at 12th sigma level (~1.5–2km agl.)\n",
    "    ## geoH:    3D Geopotential-height (msl. in meter)\n",
    "    ##\n",
    "    ## ======================================================================\n",
    "    \n",
    "    \n",
    "    ## Set pixel numbers required for WCC & BSR:\n",
    "    WCC_pixels_required = WCC_threshold/(resolution_WRF**2)\n",
    "    BSR_pixels_required = BSR_threshold/(resolution_WRF**2)\n",
    "    \n",
    "    ## Interpolate reflectivity to height threshold:\n",
    "    refl_lev = dbz_geoh_interp(refl, geoH, height_threshold)\n",
    "    \n",
    "    ## Generate a structuring element that will consider features connected even if they touch diagonally:\n",
    "    se = generate_binary_structure(2, 2)\n",
    "    \n",
    "    \n",
    "    ## ======================================================================\n",
    "    ## 1:\n",
    "    ## Threshold - Max. Composite dBZ & Convective Mask:\n",
    "    reflc_boo_tmp = np.where( (reflc >= dbz_threshold) & (CS_mask > 0), 1, 0 )\n",
    "    \n",
    "    ## DCC & SCC masking:\n",
    "    DCC_mask = np.where( ((reflc_boo_tmp == 1) & (refl_lev >= dbz_threshold)), 1, 0 )\n",
    "    SCC_mask = np.where( ((reflc_boo_tmp == 1) & (refl_lev < dbz_threshold)), 1, 0 )\n",
    "    \n",
    "    \n",
    "    ## ======================================================================\n",
    "    ## 2:\n",
    "    ## WCC & DWCC masking:\n",
    "    labeled_array_reflc_boo, num_features_reflc_boo = label( reflc_boo_tmp, structure=se )\n",
    "    \n",
    "    WCC_mask = np.zeros_like(labeled_array_reflc_boo)\n",
    "    DWCC_mask = np.zeros_like(labeled_array_reflc_boo)\n",
    "\n",
    "    for feati in np.arange(num_features_reflc_boo):\n",
    "        feat_id = feati+1\n",
    "        if ( (labeled_array_reflc_boo == feat_id).sum() > WCC_pixels_required ):\n",
    "            if ( (DCC_mask[np.where(labeled_array_reflc_boo == feat_id)]).sum() == 0 ):\n",
    "                WCC_mask = np.where( (labeled_array_reflc_boo == feat_id), 1, WCC_mask )\n",
    "            else:\n",
    "                DWCC_mask = np.where( (labeled_array_reflc_boo == feat_id), 1, DWCC_mask )\n",
    "            \n",
    "    \n",
    "    ## ======================================================================\n",
    "    ## 3:\n",
    "    ## DCC mask adjustment for DWCC:\n",
    "    DCC_mask[np.where(DWCC_mask == 1)] = 0\n",
    "    \n",
    "    ## SCC mask adjustment for WCC and DWCC:\n",
    "    SCC_mask[np.where( (WCC_mask) | (DWCC_mask == 1) )] = 0\n",
    "        \n",
    "    ## ======================================================================\n",
    "    ## 4:\n",
    "    ## Threshold - Stratiform Mask:\n",
    "    stratiform_boo_tmp = np.where( (CS_mask == 0), 1, 0 )\n",
    "    \n",
    "    ## BSR masking:\n",
    "    labeled_array_BSR, num_features_BSR = label( stratiform_boo_tmp, structure=se )\n",
    "    \n",
    "    BSR_mask = np.zeros_like(labeled_array_BSR)\n",
    "\n",
    "    for feati in np.arange(num_features_BSR):\n",
    "        feat_id = feati+1\n",
    "        if ( (labeled_array_BSR==feat_id).sum() > BSR_pixels_required ):\n",
    "            BSR_mask = np.where( (labeled_array_BSR==feat_id), 1, BSR_mask )\n",
    "    \n",
    "    \n",
    "    return DCC_mask, SCC_mask, WCC_mask, DWCC_mask, BSR_mask\n",
    "    "
   ]
  },
  {
   "cell_type": "markdown",
   "id": "4ca37949-d5a0-41d2-a22b-97d0ef346dfa",
   "metadata": {},
   "source": [
    "### Main Program: Storm Mode Classification:"
   ]
  },
  {
   "cell_type": "markdown",
   "id": "a3379430-3b62-4c09-9274-51b3f58fd605",
   "metadata": {},
   "source": [
    "**Use the Stomr Mode module:**"
   ]
  },
  {
   "cell_type": "code",
   "execution_count": 116,
   "id": "bdd07cf0-ef18-462e-9ea6-8158502480e0",
   "metadata": {},
   "outputs": [
    {
     "name": "stdout",
     "output_type": "stream",
     "text": [
      "RUNTIME：7.576440 SEC\n",
      "RUNTIME：0.126274 MIN\n",
      "RUNTIME：0.002105 HOUR\n"
     ]
    }
   ],
   "source": [
    "start = time.time()\n",
    "\n",
    "grid_res = 4 # 4-km grid resolution\n",
    "# thresholds_type = 'moderate'\n",
    "thresholds_type = 'strong'\n",
    "\n",
    "DCC_mask, OCC_mask, WCC_mask, DWCC_mask, BSR_mask = stm.storm_mode_c5( da_wrf_dbz\n",
    "                                                                     , da_wrf_reflc\n",
    "                                                                     , da_wrf_CSmask\n",
    "                                                                     , data_wrf_z_unstag\n",
    "                                                                     , grid_res\n",
    "                                                                     , thresholds_type\n",
    "                                                                     )\n",
    "\n",
    "Storm_Mode = stm.merge_to_Storm_Mode(DCC_mask, OCC_mask, WCC_mask, DWCC_mask, BSR_mask)\n",
    "\n",
    "end = time.time()\n",
    "\n",
    "print(\"RUNTIME：%f SEC\" % (end - start))\n",
    "print(\"RUNTIME：%f MIN\" % ((end - start)/60))\n",
    "print(\"RUNTIME：%f HOUR\" % ((end - start)/3600))"
   ]
  },
  {
   "cell_type": "markdown",
   "id": "7089d275-9183-4485-9e95-c66e1380fcd7",
   "metadata": {},
   "source": [
    "**Use functions defined in the script:**"
   ]
  },
  {
   "cell_type": "code",
   "execution_count": 117,
   "id": "b30f7725-af45-4ccd-a335-b5050b223aba",
   "metadata": {},
   "outputs": [],
   "source": [
    "# start = time.time()\n",
    "\n",
    "# DCC_mask, SCC_mask, WCC_mask, DWCC_mask, BSR_mask = storm_mode_class( da_wrf_dbz\n",
    "#                                                                     , da_wrf_reflc\n",
    "#                                                                     , da_wrf_CSmask\n",
    "#                                                                     , data_wrf_z_unstag)\n",
    "\n",
    "# end = time.time()\n",
    "\n",
    "# print(\"RUNTIME：%f SEC\" % (end - start))\n",
    "# print(\"RUNTIME：%f MIN\" % ((end - start)/60))\n",
    "# print(\"RUNTIME：%f HOUR\" % ((end - start)/3600))"
   ]
  },
  {
   "cell_type": "code",
   "execution_count": 118,
   "id": "3814c554-29ce-4aa4-9ade-522fb2201c9d",
   "metadata": {},
   "outputs": [],
   "source": [
    "## Test: Intersection of Modes:\n",
    "\n",
    "# Storm_Mode_Int = DCC_mask + SCC_mask + WCC_mask + DWCC_mask + BSR_mask\n",
    "# print(np.max(Storm_Mode_Int))"
   ]
  },
  {
   "cell_type": "code",
   "execution_count": 119,
   "id": "42292240-343c-4a66-b52b-fe224963b70c",
   "metadata": {},
   "outputs": [],
   "source": [
    "## Merge the masks array for plotting:\n",
    "\n",
    "# Storm_Mode = np.zeros_like(DCC_mask)\n",
    "# Storm_Mode = np.where( (DCC_mask==1), 1, Storm_Mode )\n",
    "# Storm_Mode = np.where( (SCC_mask==1), 2, Storm_Mode )\n",
    "# Storm_Mode = np.where( (WCC_mask==1), 3, Storm_Mode )\n",
    "# Storm_Mode = np.where( (DWCC_mask==1), 4, Storm_Mode )\n",
    "# Storm_Mode = np.where( (BSR_mask==1), 5, Storm_Mode )\n",
    "\n",
    "# # Storm_Mode[np.where(Storm_Mode == 0)] = np.nan"
   ]
  },
  {
   "cell_type": "markdown",
   "id": "8ad4be68-c309-456d-af5e-805a3013fbc1",
   "metadata": {},
   "source": [
    "### Test plot:"
   ]
  },
  {
   "cell_type": "markdown",
   "id": "88aa62b1-b536-43fe-a665-1ee49dbba517",
   "metadata": {},
   "source": [
    "**Function: creating new map:**"
   ]
  },
  {
   "cell_type": "code",
   "execution_count": 120,
   "id": "5fa8a96f-c2e4-4ba5-b2b3-272ebf6d236a",
   "metadata": {},
   "outputs": [],
   "source": [
    "def new_map(fig):\n",
    "    \n",
    "    # proj = ccrs.LambertConformal()\n",
    "    proj = ccrs.PlateCarree(central_longitude=0)\n",
    "    \n",
    "    # ax = fig.add_subplot(1, 1, 1, projection=proj)\n",
    "    ax = plt.axes(projection=proj)\n",
    "    \n",
    "    ## Set extent:\n",
    "    # ax.set_global()\n",
    "    \n",
    "    ## CONUS:\n",
    "    # ax.set_extent([-139, -55, 16, 60], crs=proj)    \n",
    "    ## 9/13 case:\n",
    "    # ax.set_extent([-115, -95, 32, 43], crs=proj)    \n",
    "    ## 4/27 case:\n",
    "    ax.set_extent([-96, -84, 33, 41], crs=proj)\n",
    "    \n",
    "    ## Add coast lines:\n",
    "    ax.coastlines('10m', 'black', linewidth=1)\n",
    "    \n",
    "    ## Add features:\n",
    "    ax.add_feature(cfeat.BORDERS)\n",
    "    ax.add_feature(cfeat.OCEAN, edgecolor=None, fc='none')\n",
    "    \n",
    "    ## Grab state shapefile:\n",
    "    state_borders = cfeat.NaturalEarthFeature(category='cultural', \n",
    "                                              name='admin_1_states_provinces_lines', \n",
    "                                              scale='110m', \n",
    "                                              facecolor='none',\n",
    "                                              edgecolor='k'\n",
    "                                             )\n",
    "    \n",
    "    ax.add_feature(state_borders, linewidth=0.8)\n",
    "    \n",
    "    ## Add the gridlines:\n",
    "    latlon_grid_int = 2\n",
    "    ax_gl = ax.gridlines(crs=ccrs.PlateCarree()\n",
    "                        ,linewidth=0.5\n",
    "                        ,color='#454545' \n",
    "                        ,alpha=0.9\n",
    "                        ,linestyle='--'\n",
    "                        ,draw_labels=True \n",
    "                        ,dms=True\n",
    "                        ,x_inline=False \n",
    "                        ,y_inline=False\n",
    "                        ,xlocs=np.arange(-180, 181, latlon_grid_int)\n",
    "                        ,ylocs=np.arange(-90, 91, latlon_grid_int)\n",
    "                        )\n",
    "    ax_gl.top_labels = False\n",
    "    ax_gl.right_labels = False\n",
    "    ax_gl.bottom_labels = True\n",
    "    ax_gl.left_labels = True\n",
    "    ax_gl.xlabel_style = {'size': 12, 'weight': 'bold'}\n",
    "    ax_gl.ylabel_style = {'size': 12, 'weight': 'bold'}\n",
    "    \n",
    "    \n",
    "    return ax"
   ]
  },
  {
   "cell_type": "markdown",
   "id": "4ad4d114-9090-493e-97ff-02289a6d25e5",
   "metadata": {},
   "source": [
    "**Do the plot:**"
   ]
  },
  {
   "cell_type": "code",
   "execution_count": 121,
   "id": "fc6f5670-7779-4bc1-afad-d87b05a4c7ae",
   "metadata": {},
   "outputs": [
    {
     "name": "stderr",
     "output_type": "stream",
     "text": [
      "/glade/u/ssg/ch/usr/jupyterhub/envs/npl-3.7.9/dav/lib/python3.7/site-packages/cartopy/mpl/geoaxes.py:1598: UserWarning: The input coordinates to pcolormesh are interpreted as cell centers, but are not monotonically increasing or decreasing. This may lead to incorrectly calculated cell edges, in which case, please supply explicit cell edges to pcolormesh.\n",
      "  shading=shading)\n"
     ]
    },
    {
     "data": {
      "image/png": "[encoded data removed]",
      "text/plain": [
       "<Figure size 864x648 with 2 Axes>"
      ]
     },
     "metadata": {
      "needs_background": "light"
     },
     "output_type": "display_data"
    }
   ],
   "source": [
    "fig = plt.figure(figsize=(12,9))\n",
    "ax1 = new_map(fig)\n",
    "# ax1 = plt.axes(projection = ccrs.LambertConformal(central_longitude=-100, central_latitude=40))\n",
    "# ax1 = plt.axes(projection = ccrs.PlateCarree())\n",
    "\n",
    "# DCC_mask[np.where(DCC_mask == 1)] = 1\n",
    "# WCC_mask[np.where(WCC_mask == 1)] = 2\n",
    "# DWCC_mask[np.where(DWCC_mask == 1)] = 3\n",
    "# BSR_mask[np.where(BSR_mask == 1)] = 4\n",
    "\n",
    "plotting_var = Storm_Mode\n",
    "# plotting_var_2 = WCC_mask\n",
    "# plotting_var_3 = DWCC_mask\n",
    "plotting_lon = da_wrf_reflc.XLONG\n",
    "plotting_lat = da_wrf_reflc.XLAT\n",
    "\n",
    "cf1 = ax1.pcolormesh( plotting_lon, plotting_lat, plotting_var # + plotting_var_2 + plotting_var_3\n",
    "                    , cmap=plt.cm.get_cmap('rainbow_r', 5)\n",
    "                    , vmin=1\n",
    "                    , vmax=5\n",
    "                    , shading='auto'\n",
    "                    )\n",
    "# cf1 = ax1.pcolormesh( plotting_lon, plotting_lat, plotting_var_2\n",
    "#                     , cmap=plt.cm.get_cmap('rainbow_r', 4)\n",
    "#                     , vmin=1\n",
    "#                     , vmax=4\n",
    "#                     , shading='auto'\n",
    "#                     )\n",
    "cf1.cmap.set_under('w')\n",
    "\n",
    "## Title:\n",
    "cf1_title = plt.title( np.datetime_as_string(da_wrf_dbz.Time.data, unit='h')\n",
    "                     + ' / ' + wrf_sim_type\n",
    "                     + ' / Storm Mode'\n",
    "                     # + ' / ' + '$\\sigma$-Level index: ' + str(interp_vertical_lev)\n",
    "                     ,fontsize=14 \n",
    "                     ,fontweight='bold'\n",
    "                     # ,loc='left'\n",
    "                     )\n",
    "# plt.title('right', loc='right')\n",
    "\n",
    "## Colorbar:\n",
    "cbar_ax = fig.add_axes([0.92, 0.3, 0.015, 0.4])\n",
    "cbar = fig.colorbar(cf1, \n",
    "                    cax=cbar_ax, \n",
    "                    fraction=0.04, \n",
    "                    ticks=np.arange(1, 6, 1), \n",
    "                    boundaries=np.arange(0.5, 6.5, 1))\n",
    "cbar.ax.tick_params(labelsize=12)\n",
    "cbar.set_ticklabels(['DCC', 'OCC', 'WCC', 'DWCC', 'BSR'])\n",
    "# cbar_title = plt.title('[dBZ]', fontsize=12, y=-0.1)\n",
    "\n",
    "## Save figure:\n",
    "# fig_file_name = './' + np.datetime_as_string(da_wrf_dbz.Time.data, unit='h') + '_StormMode_.png'\n",
    "fig_file_name = './' + np.datetime_as_string(da_wrf_dbz.Time.data, unit='h') + '_StormMode_' + thresholds_type[0:3] + '.png'\n",
    "\n",
    "plt.savefig(fig_file_name, bbox_inches='tight', dpi=300)\n"
   ]
  },
  {
   "cell_type": "code",
   "execution_count": 122,
   "id": "f4321a4f-86d4-4ed8-abf1-39d4f5595494",
   "metadata": {},
   "outputs": [
    {
     "name": "stdin",
     "output_type": "stream",
     "text": [
      "Once deleted, variables cannot be recovered. Proceed (y/[n])?  y\n"
     ]
    }
   ],
   "source": [
    "%reset"
   ]
  },
  {
   "cell_type": "markdown",
   "id": "7317168b-75f8-46b7-8ff1-1cd3062c97d5",
   "metadata": {},
   "source": [
    "<font color='teal'>**Supplement Codes:**</font>"
   ]
  },
  {
   "cell_type": "code",
   "execution_count": 123,
   "id": "e8fdf3d2-1ca5-453d-b7d8-17ca16db41dc",
   "metadata": {},
   "outputs": [],
   "source": [
    "# reflc_boo_tmp = np.where( (da_wrf_reflc >= 30) & (da_wrf_CSmask != 0), 1, 0 )\n",
    "# # print(reflc_boo_tmp)\n",
    "# labeled_array_WCC, num_features_WCC = label( reflc_boo_tmp, structure=generate_binary_structure(2, 2) )\n",
    "# # print(labeled_array_WCC)\n",
    "# feat_id = 6\n",
    "# print(DCC_mask[np.where(labeled_array_WCC == feat_id)].sum())\n",
    "# print((labeled_array_WCC == feat_id).sum())\n",
    "# print(labeled_array_WCC.shape)"
   ]
  },
  {
   "cell_type": "code",
   "execution_count": 124,
   "id": "e6b5f641-0993-40ac-b8f5-0d48a7b6f372",
   "metadata": {},
   "outputs": [],
   "source": [
    "# da_refl_lev = dbz_geoh_interp(da_wrf_dbz, data_wrf_z_unstag, 10)\n",
    "# # da_refl_lev.plot()\n",
    "# # da_wrf_CSmask.plot()\n",
    "\n",
    "# echotop_boo_tmp = np.where( (da_refl_lev >= 30.0) & (da_wrf_CSmask != 0), 1, 0 )\n",
    "# # echotop_boo = xr.zeros_like(da_wrf_reflc).rename('echotop_boolean')\n",
    "# # echotop_boo.data = echotop_boo_tmp\n",
    "# # echotop_boo.plot()\n",
    "\n",
    "# se = generate_binary_structure(2, 2)\n",
    "\n",
    "# labeled_array_DCC, num_features_DCC = label( echotop_boo_tmp, structure=se )\n",
    "\n",
    "# DCC_mask = np.where( (labeled_array_DCC > 0.0), 1, 0 )\n",
    "# # da_DCC_mask = xr.zeros_like(da_wrf_reflc).rename('DCC_mask')\n",
    "# # da_DCC_mask.data = DCC_mask\n",
    "# # da_DCC_mask.plot()\n",
    "\n",
    "# reflc_boo_tmp = np.where( (da_wrf_reflc >= 30.0) & (da_wrf_CSmask != 0), 1, 0 )\n",
    "# # reflc_boo = xr.zeros_like(da_wrf_reflc).rename('reflc_bpplean')\n",
    "# # reflc_boo.data = reflc_boo_tmp\n",
    "# # reflc_boo.plot()\n",
    "\n",
    "# labeled_array_WCC, num_features_WCC = label( reflc_boo_tmp, structure=se )\n",
    "\n",
    "# WCC_mask = np.zeros_like(labeled_array_WCC)\n",
    "\n",
    "# for feati in np.arange(num_features_WCC):\n",
    "#     feat_id = feati+1\n",
    "#     if ( (labeled_array_WCC==feat_id).sum() > 800/(4**2) ):\n",
    "#         WCC_mask = np.where( (labeled_array_WCC==feat_id), 1, WCC_mask )\n",
    "    \n",
    "# # da_WCC_mask = xr.zeros_like(da_wrf_reflc).rename('WCC_mask')\n",
    "# # da_WCC_mask.data = WCC_mask\n",
    "# # da_WCC_mask.plot()\n",
    "\n"
   ]
  }
 ],
 "metadata": {
  "kernelspec": {
   "display_name": "NPL-3.7.9",
   "language": "python",
   "name": "npl-3.7.9"
  },
  "language_info": {
   "codemirror_mode": {
    "name": "ipython",
    "version": 3
   },
   "file_extension": ".py",
   "mimetype": "text/x-python",
   "name": "python",
   "nbconvert_exporter": "python",
   "pygments_lexer": "ipython3",
   "version": "3.7.9"
  }
 },
 "nbformat": 4,
 "nbformat_minor": 5
}
