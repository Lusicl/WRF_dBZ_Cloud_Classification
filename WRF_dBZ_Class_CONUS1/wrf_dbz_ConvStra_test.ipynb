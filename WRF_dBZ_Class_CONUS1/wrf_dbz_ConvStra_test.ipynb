{
 "cells": [
  {
   "cell_type": "markdown",
   "id": "869fb837-0d1f-4790-9318-8aff52b75ef9",
   "metadata": {},
   "source": [
    "## Convective/Stratiform identification for 3D Reflectivity from derived dBZ of WRF Simulations. \n",
    "\n",
    "**For [High Resolution WRF Simulations of the Current and Future Climate of North America](https://rda.ucar.edu/datasets/ds612.0/).**\n",
    "\n",
    "**Hungjui Yu 20210927**"
   ]
  },
  {
   "cell_type": "code",
   "execution_count": 93,
   "id": "70de2b4e-ad2a-429f-ad4d-c27561e36fad",
   "metadata": {},
   "outputs": [
    {
     "name": "stdin",
     "output_type": "stream",
     "text": [
      "Once deleted, variables cannot be recovered. Proceed (y/[n])?  y\n"
     ]
    }
   ],
   "source": [
    "%reset\n",
    "\n",
    "import sys\n",
    "import time\n",
    "import datetime as dt\n",
    "import pytz\n",
    "from netCDF4 import (Dataset, MFDataset)\n",
    "import numpy as np\n",
    "from scipy.interpolate import interpn\n",
    "import xarray as xr\n",
    "import pandas as pd\n",
    "import wrf\n",
    "from wrf import (getvar, vinterp, extract_times, destagger)\n",
    "\n",
    "# import metpy\n",
    "# import metpy.calc as mpcalc\n",
    "# import metpy.units as units\n",
    "# print(metpy.__version__)\n",
    "# import dask\n"
   ]
  },
  {
   "cell_type": "markdown",
   "id": "1cc002f5-0b9b-4623-9125-4bbc79e62cb1",
   "metadata": {},
   "source": [
    "**Set input files paths and names:**"
   ]
  },
  {
   "cell_type": "code",
   "execution_count": 94,
   "id": "3f06ea2c-4b38-4bdc-9459-a47621e73e76",
   "metadata": {},
   "outputs": [
    {
     "name": "stdout",
     "output_type": "stream",
     "text": [
      "{'dbz': '/glade/scratch/hungjui/DATA_WRF_CONUS_1_dBZ_v1.0/CTRL3D/2013/wrf3d_d01_CTRL_dbz_20130913.nc', 'Z': '/gpfs/fs1/collections/rda/data/ds612.0/CTRL3D/2013/wrf3d_d01_CTRL_Z_20130913.nc'}\n"
     ]
    }
   ],
   "source": [
    "def set_input_names(file_date):\n",
    "\n",
    "    file_path_1 = '/gpfs/fs1/collections/rda/data/ds612.0'\n",
    "    file_path_1_dbz = '/glade/scratch/hungjui/DATA_WRF_CONUS_1_dBZ_v1.0'\n",
    "    file_path_2 = '/' + wrf_sim_type # '/CTRL3D'\n",
    "    file_path_3 = '/{}'.format(file_date.strftime('%Y'))\n",
    "\n",
    "    file_names = dict( dbz = file_path_1_dbz\n",
    "                           + file_path_2 \n",
    "                           + file_path_3 \n",
    "                           + '/wrf3d_d01_' + wrf_sim_type[0:-2] + '_dbz_{}.nc'.format(file_date.strftime('%Y%m%d'))\n",
    "                       , Z = file_path_1 \n",
    "                           + file_path_2 \n",
    "                           + file_path_3 \n",
    "                           + '/wrf3d_d01_' + wrf_sim_type[0:-2] + '_Z_{}.nc'.format(file_date.strftime('%Y%m%d'))\n",
    "                     )\n",
    "    \n",
    "    return file_names\n",
    "\n",
    "wrf_sim_type = 'CTRL3D'\n",
    "file_name_list = set_input_names(dt.datetime(2013,9,13))\n",
    "print(file_name_list)"
   ]
  },
  {
   "cell_type": "markdown",
   "id": "4623103f-a594-43a8-a3b5-8a5f0eab50a6",
   "metadata": {},
   "source": [
    "**Test inserting Z into Netcdf4 dataset:**"
   ]
  },
  {
   "cell_type": "code",
   "execution_count": 92,
   "id": "c6888da2-36e2-43fe-b2d4-accbffce13a3",
   "metadata": {},
   "outputs": [
    {
     "ename": "RuntimeError",
     "evalue": "NetCDF: Write to read only",
     "output_type": "error",
     "traceback": [
      "\u001b[0;31m---------------------------------------------------------------------------\u001b[0m",
      "\u001b[0;31mRuntimeError\u001b[0m                              Traceback (most recent call last)",
      "\u001b[0;32m<ipython-input-92-0da80ad2bbdd>\u001b[0m in \u001b[0;36m<module>\u001b[0;34m\u001b[0m\n\u001b[1;32m      4\u001b[0m \u001b[0mdata_wrf_z_unstag\u001b[0m \u001b[0;34m=\u001b[0m \u001b[0mwrf\u001b[0m\u001b[0;34m.\u001b[0m\u001b[0mdestagger\u001b[0m\u001b[0;34m(\u001b[0m\u001b[0mgetvar\u001b[0m\u001b[0;34m(\u001b[0m\u001b[0mncds_wrf_z\u001b[0m\u001b[0;34m,\u001b[0m \u001b[0;34m'Z'\u001b[0m\u001b[0;34m,\u001b[0m \u001b[0mtimeidx\u001b[0m\u001b[0;34m=\u001b[0m\u001b[0mwrf\u001b[0m\u001b[0;34m.\u001b[0m\u001b[0mALL_TIMES\u001b[0m\u001b[0;34m,\u001b[0m \u001b[0mmeta\u001b[0m\u001b[0;34m=\u001b[0m\u001b[0;32mFalse\u001b[0m\u001b[0;34m)\u001b[0m\u001b[0;34m,\u001b[0m \u001b[0;36m1\u001b[0m\u001b[0;34m)\u001b[0m\u001b[0;34m\u001b[0m\u001b[0;34m\u001b[0m\u001b[0m\n\u001b[1;32m      5\u001b[0m \u001b[0;34m\u001b[0m\u001b[0m\n\u001b[0;32m----> 6\u001b[0;31m \u001b[0mGEO_H\u001b[0m \u001b[0;34m=\u001b[0m \u001b[0mncds_wrf_dbz\u001b[0m\u001b[0;34m.\u001b[0m\u001b[0mcreateVariable\u001b[0m\u001b[0;34m(\u001b[0m\u001b[0;34m'Z'\u001b[0m\u001b[0;34m,\u001b[0m \u001b[0;34m'f4'\u001b[0m\u001b[0;34m,\u001b[0m \u001b[0;34m(\u001b[0m\u001b[0;34m'Time'\u001b[0m\u001b[0;34m,\u001b[0m \u001b[0;34m'bottom_top'\u001b[0m\u001b[0;34m,\u001b[0m \u001b[0;34m'south_north'\u001b[0m\u001b[0;34m,\u001b[0m \u001b[0;34m'west_east'\u001b[0m\u001b[0;34m)\u001b[0m\u001b[0;34m)\u001b[0m\u001b[0;34m\u001b[0m\u001b[0;34m\u001b[0m\u001b[0m\n\u001b[0m",
      "\u001b[0;32mnetCDF4/_netCDF4.pyx\u001b[0m in \u001b[0;36mnetCDF4._netCDF4.Dataset.createVariable\u001b[0;34m()\u001b[0m\n",
      "\u001b[0;32mnetCDF4/_netCDF4.pyx\u001b[0m in \u001b[0;36mnetCDF4._netCDF4.Variable.__init__\u001b[0;34m()\u001b[0m\n",
      "\u001b[0;32mnetCDF4/_netCDF4.pyx\u001b[0m in \u001b[0;36mnetCDF4._netCDF4._ensure_nc_success\u001b[0;34m()\u001b[0m\n",
      "\u001b[0;31mRuntimeError\u001b[0m: NetCDF: Write to read only"
     ]
    }
   ],
   "source": [
    "ncds_wrf_dbz = Dataset(file_name_list['dbz'], format=\"NETCDF4_CLASSIC\")\n",
    "\n",
    "ncds_wrf_z = Dataset(file_name_list['Z'])\n",
    "data_wrf_z_unstag = wrf.destagger(getvar(ncds_wrf_z, 'Z', timeidx=wrf.ALL_TIMES, meta=False), 1)\n",
    "\n",
    "GEO_H = ncds_wrf_dbz.createVariable('Z', 'f4', ('Time', 'bottom_top', 'south_north', 'west_east'))\n"
   ]
  },
  {
   "cell_type": "markdown",
   "id": "68ce6c18-4cda-4b5f-b3b7-bf4e1ccd0d19",
   "metadata": {},
   "source": [
    "**Test inserting Z into Netcdf4 dataset (read multiple files at once):\n",
    "NOT WORKING!**"
   ]
  },
  {
   "cell_type": "code",
   "execution_count": 87,
   "id": "b41f8d94-4b9e-4cf7-af36-dce8b38ca779",
   "metadata": {},
   "outputs": [],
   "source": [
    "# file_names = [ file_name_list['dbz'], file_name_list['Z'] ]\n",
    "# ncds_wrf_dbz_z = MFDataset(file_names)"
   ]
  },
  {
   "cell_type": "code",
   "execution_count": 91,
   "id": "fb7ef7c7-0175-40c1-be30-0bc2ca0da2eb",
   "metadata": {},
   "outputs": [
    {
     "name": "stdout",
     "output_type": "stream",
     "text": [
      "<class 'netCDF4._netCDF4.Dataset'>\n",
      "root group (NETCDF4 data model, file format HDF5):\n",
      "    SIMULATION_START_DATE: 2000-10-01_00:00:00\n",
      "    WEST-EAST_GRID_DIMENSION: 1360\n",
      "    SOUTH-NORTH_GRID_DIMENSION: 1016\n",
      "    BOTTOM-TOP_GRID_DIMENSION: 51\n",
      "    DX: 4000.0\n",
      "    DY: 4000.0\n",
      "    GRIDTYPE: C\n",
      "    DIFF_OPT: 1\n",
      "    KM_OPT: 4\n",
      "    DAMP_OPT: 3\n",
      "    DAMPCOEF: 0.2\n",
      "    KHDIF: 0.0\n",
      "    KVDIF: 0.0\n",
      "    MP_PHYSICS: 28\n",
      "    RA_LW_PHYSICS: 4\n",
      "    RA_SW_PHYSICS: 4\n",
      "    SF_SFCLAY_PHYSICS: 11\n",
      "    SF_SURFACE_PHYSICS: 4\n",
      "    BL_PBL_PHYSICS: 1\n",
      "    CU_PHYSICS: 0\n",
      "    SURFACE_INPUT_SOURCE: 1\n",
      "    SST_UPDATE: 1\n",
      "    GRID_FDDA: 2\n",
      "    GFDDA_INTERVAL_M: 360\n",
      "    GFDDA_END_H: 999999\n",
      "    GRID_SFDDA: 0\n",
      "    SGFDDA_INTERVAL_M: 0\n",
      "    SGFDDA_END_H: 0\n",
      "    HYPSOMETRIC_OPT: 2\n",
      "    SF_URBAN_PHYSICS: 0\n",
      "    SHCU_PHYSICS: 0\n",
      "    MFSHCONV: 0\n",
      "    FEEDBACK: 0\n",
      "    SMOOTH_OPTION: 2\n",
      "    SWRAD_SCAT: 1.0\n",
      "    W_DAMPING: 1\n",
      "    MOIST_ADV_OPT: 1\n",
      "    SCALAR_ADV_OPT: 1\n",
      "    TKE_ADV_OPT: 1\n",
      "    DIFF_6TH_OPT: 0\n",
      "    DIFF_6TH_FACTOR: 0.12\n",
      "    FGDT: 0.0\n",
      "    GUV: 5e-05\n",
      "    GT: 5e-05\n",
      "    GPH: 5e-05\n",
      "    IF_RAMPING: 1\n",
      "    DTRAMP_MIN: 60.0\n",
      "    OBS_NUDGE_OPT: 0\n",
      "    BUCKET_MM: 100.0\n",
      "    BUCKET_J: 1000000000.0\n",
      "    PREC_ACC_DT: 60.0\n",
      "    OMLCALL: 0\n",
      "    ISFTCFLX: 0\n",
      "    ISHALLOW: 0\n",
      "    OPT_SFC: 1\n",
      "    DVEG: 4\n",
      "    OPT_CRS: 1\n",
      "    OPT_BTR: 2\n",
      "    OPT_RUN: 1\n",
      "    OPT_FRZ: 1\n",
      "    OPT_INF: 1\n",
      "    OPT_RAD: 3\n",
      "    OPT_ALB: 2\n",
      "    OPT_SNF: 4\n",
      "    OPT_TBOT: 1\n",
      "    OPT_STC: 1\n",
      "    DFI_OPT: 0\n",
      "    WEST-EAST_PATCH_START_UNSTAG: 1\n",
      "    WEST-EAST_PATCH_END_UNSTAG: 1359\n",
      "    WEST-EAST_PATCH_START_STAG: 1\n",
      "    WEST-EAST_PATCH_END_STAG: 1360\n",
      "    SOUTH-NORTH_PATCH_START_UNSTAG: 1\n",
      "    SOUTH-NORTH_PATCH_END_UNSTAG: 1015\n",
      "    SOUTH-NORTH_PATCH_START_STAG: 1\n",
      "    SOUTH-NORTH_PATCH_END_STAG: 1016\n",
      "    BOTTOM-TOP_PATCH_START_UNSTAG: 1\n",
      "    BOTTOM-TOP_PATCH_END_UNSTAG: 50\n",
      "    BOTTOM-TOP_PATCH_START_STAG: 1\n",
      "    BOTTOM-TOP_PATCH_END_STAG: 51\n",
      "    GRID_ID: 1\n",
      "    PARENT_ID: 0\n",
      "    I_PARENT_START: 1\n",
      "    J_PARENT_START: 1\n",
      "    PARENT_GRID_RATIO: 1\n",
      "    DT: 15.0\n",
      "    CEN_LAT: 39.700012\n",
      "    CEN_LON: -98.0\n",
      "    TRUELAT1: 28.0\n",
      "    TRUELAT2: 50.0\n",
      "    MOAD_CEN_LAT: 39.700012\n",
      "    STAND_LON: -98.0\n",
      "    POLE_LAT: 90.0\n",
      "    POLE_LON: 0.0\n",
      "    GMT: 0.0\n",
      "    JULYR: 2013\n",
      "    JULDAY: 251\n",
      "    MAP_PROJ: 1\n",
      "    MMINLU: MODIFIED_IGBP_MODIS_NOAH\n",
      "    NUM_LAND_CAT: 20\n",
      "    ISWATER: 17\n",
      "    ISLAKE: -1\n",
      "    ISICE: 15\n",
      "    ISURBAN: 13\n",
      "    ISOILWATER: 14\n",
      "    Source_Code: make_HYDRO_CONUS_analysis_files.scr\n",
      "    FileGenerated: 20160308\n",
      "    Project: CONUS-HYDRO\n",
      "    Division: NCAR/RAL/HAP\n",
      "    history: Fri Apr  7 20:49:09 2017: ncks -O -4 -L 1 /glade/scratch/kyoko/CONUS/RDA/CTRL/2013/wrf3d_d01_CTRL_P_20130913.nc /glade/p/datashare/kyoko/RDA/CTRL/2013/wrf3d_d01_CTRL_P_20130913.nc\n",
      "Fri Apr  7 19:39:02 2017: ncks -O -4 /glade/scratch/kyoko/CONUS/RDA/CTRL/2013/wrf3d_d01_CTRL_P_20130913.nc /glade/scratch/kyoko/CONUS/RDA/CTRL/2013/wrf3d_d01_CTRL_P_20130913.nc\n",
      "Tue Mar  8 12:46:37 2016: ncks -O -4 -L 1 /glade/scratch/kyoko/CONUS/CTRL/2013/wrf3d_d01_2013-09-13_00:00:00 /glade/scratch/kyoko/CONUS/CTRL/2013/wrf3d_d01_2013-09-13_00:00:00\n",
      "    NCO: \"4.5.5\"\n",
      "    Publication_DOI: doi:10.1007/s00382-016-3327-9\n",
      "    Conventions: CF-1.6\n",
      "    TITLE:  OUTPUT FROM WRF V3.4.1 MODEL , CURRENT CLIMATE SIMULATION\n",
      "    dimensions(sizes): Time(8), DateStrLen(19), south_north(1015), west_east(1359), bottom_top(50)\n",
      "    variables(dimensions): float64 Time(Time), |S1 Times(Time, DateStrLen), float32 XLAT(south_north, west_east), float32 XLONG(south_north, west_east), float32 XTIME(Time), float32 dBZ(Time, bottom_top, south_north, west_east)\n",
      "    groups: \n"
     ]
    }
   ],
   "source": [
    "print(ncds_wrf_dbz)\n",
    "# print(ncds_wrf_z.dimensions)\n",
    "# print(data_wrf_z_unstag.shape)"
   ]
  },
  {
   "cell_type": "markdown",
   "id": "3cf07d7b-8140-494c-b0eb-8262ce1a9e62",
   "metadata": {},
   "source": [
    "**Test interpolation with xarray data array:**"
   ]
  },
  {
   "cell_type": "code",
   "execution_count": 3,
   "id": "f509b077-4ff4-426e-b35b-8e180ace8116",
   "metadata": {},
   "outputs": [],
   "source": [
    "ds_wrf_dbz = xr.open_dataset(file_name_list['dbz'])\n",
    "\n",
    "data_wrf_z_unstag = wrf.destagger(getvar(Dataset(file_name_list['Z']), 'Z', timeidx=0, meta=False), 0)\n",
    "# print(ds_wrf_z_unstag.shape)\n",
    "# print(type(da_wrf_z_unstag))\n",
    "\n",
    "da_wrf_dbz = ds_wrf_dbz['dBZ'].isel(Time=0).assign_coords(GEO_H=(('bottom_top','south_north','west_east'), data_wrf_z_unstag))\n",
    "\n",
    "# da_wrf_dbz = xr.DataArray( ds_wrf_dbz['dBZ'].isel(Time=0), {'GEO_H': (('bottom_top','south_north','west_east'), da_wrf_z_unstag)} )\n",
    "\n",
    "# da_wrf_dbz"
   ]
  },
  {
   "cell_type": "code",
   "execution_count": 7,
   "id": "8bac53af-2af5-4054-be56-0706342808a9",
   "metadata": {},
   "outputs": [
    {
     "name": "stdout",
     "output_type": "stream",
     "text": [
      "<class 'numpy.ma.core.MaskedArray'>\n"
     ]
    }
   ],
   "source": [
    "da_wrf_dbz\n"
   ]
  },
  {
   "cell_type": "markdown",
   "id": "5fba73ed-e4ab-4889-8e26-a7f9df4144c5",
   "metadata": {},
   "source": [
    "**Get wrf outputsizeariables:**"
   ]
  },
  {
   "cell_type": "code",
   "execution_count": 58,
   "id": "1c600816-e8eb-4a48-bf0c-1b3a66b48be4",
   "metadata": {},
   "outputs": [],
   "source": [
    "def get_wrf_vars(file_name, var_name, time_index):\n",
    "\n",
    "    wrf_file = Dataset(file_name)\n",
    "    # wrf_var = getvar(wrf_file, wrf_var_to_read, timeidx=time_index_1) # This doesn't work for CONUS run files.\n",
    "    wrf_var = getvar(wrf_file, var_name, timeidx=time_index, meta=False)\n",
    "    # wrf_var_time = wrf.extract_times(wrf_file, timeidx=time_index)\n",
    "    # print(wrf_var_time)\n",
    "    \n",
    "    return wrf_var"
   ]
  },
  {
   "cell_type": "code",
   "execution_count": 59,
   "id": "19e33137-a0ef-4949-bae7-bb0fed6237c7",
   "metadata": {},
   "outputs": [],
   "source": [
    "# wrf_dbz = xr.open_dataset(file_name_list['dbz'])\n",
    "# wrf_dbz = Dataset(file_name_list['dbz'])\n",
    "# wrf_z = xr.open_dataset(file_name_list['Z'])\n",
    "# wrf_dbz = get_wrf_vars(file_name_list['dbz'], 'dBZ', 0)\n",
    "# wrf_lon = get_wrf_vars(file_name_list['dbz'], 'XLONG', 0)\n",
    "# wrf_lat = get_wrf_vars(file_name_list['dbz'], 'XLAT', 0)\n",
    "# print(type(wrf_dbz))\n",
    "# print(wrf_dbz)"
   ]
  },
  {
   "cell_type": "code",
   "execution_count": 4,
   "id": "46f5b5ff-7f93-412d-9b1b-794554e6dfe6",
   "metadata": {},
   "outputs": [
    {
     "ename": "KeyError",
     "evalue": "'bottom_top'",
     "output_type": "error",
     "traceback": [
      "\u001b[0;31m---------------------------------------------------------------------------\u001b[0m",
      "\u001b[0;31mKeyError\u001b[0m                                  Traceback (most recent call last)",
      "\u001b[0;32m<ipython-input-4-05a0430b4615>\u001b[0m in \u001b[0;36m<module>\u001b[0;34m\u001b[0m\n\u001b[1;32m      9\u001b[0m                        \u001b[0mfield_type\u001b[0m\u001b[0;34m=\u001b[0m\u001b[0;34m'none'\u001b[0m\u001b[0;34m,\u001b[0m\u001b[0;34m\u001b[0m\u001b[0;34m\u001b[0m\u001b[0m\n\u001b[1;32m     10\u001b[0m                        \u001b[0mlog_p\u001b[0m\u001b[0;34m=\u001b[0m\u001b[0;32mFalse\u001b[0m\u001b[0;34m,\u001b[0m\u001b[0;34m\u001b[0m\u001b[0;34m\u001b[0m\u001b[0m\n\u001b[0;32m---> 11\u001b[0;31m                        \u001b[0mtimeidx\u001b[0m\u001b[0;34m=\u001b[0m\u001b[0;36m0\u001b[0m\u001b[0;34m,\u001b[0m\u001b[0;34m\u001b[0m\u001b[0;34m\u001b[0m\u001b[0m\n\u001b[0m\u001b[1;32m     12\u001b[0m                       )\n",
      "\u001b[0;32m/glade/u/ssg/ch/usr/jupyterhub/envs/npl-3.7.9/dav/lib/python3.7/site-packages/wrf_python-1.3.2-py3.7-linux-x86_64.egg/wrf/metadecorators.py\u001b[0m in \u001b[0;36mfunc_wrapper\u001b[0;34m(wrapped, instance, args, kwargs)\u001b[0m\n\u001b[1;32m   1734\u001b[0m             \u001b[0;32mreturn\u001b[0m \u001b[0m_set_line_meta\u001b[0m\u001b[0;34m(\u001b[0m\u001b[0mwrapped\u001b[0m\u001b[0;34m,\u001b[0m \u001b[0minstance\u001b[0m\u001b[0;34m,\u001b[0m \u001b[0margs\u001b[0m\u001b[0;34m,\u001b[0m \u001b[0mkwargs\u001b[0m\u001b[0;34m)\u001b[0m\u001b[0;34m\u001b[0m\u001b[0;34m\u001b[0m\u001b[0m\n\u001b[1;32m   1735\u001b[0m         \u001b[0;32melif\u001b[0m \u001b[0minterp_type\u001b[0m \u001b[0;34m==\u001b[0m \u001b[0;34m\"vinterp\"\u001b[0m\u001b[0;34m:\u001b[0m\u001b[0;34m\u001b[0m\u001b[0;34m\u001b[0m\u001b[0m\n\u001b[0;32m-> 1736\u001b[0;31m             \u001b[0;32mreturn\u001b[0m \u001b[0m_set_vinterp_meta\u001b[0m\u001b[0;34m(\u001b[0m\u001b[0mwrapped\u001b[0m\u001b[0;34m,\u001b[0m \u001b[0minstance\u001b[0m\u001b[0;34m,\u001b[0m \u001b[0margs\u001b[0m\u001b[0;34m,\u001b[0m \u001b[0mkwargs\u001b[0m\u001b[0;34m)\u001b[0m\u001b[0;34m\u001b[0m\u001b[0;34m\u001b[0m\u001b[0m\n\u001b[0m\u001b[1;32m   1737\u001b[0m         \u001b[0;32melif\u001b[0m \u001b[0minterp_type\u001b[0m \u001b[0;34m==\u001b[0m \u001b[0;34m\"2dxy\"\u001b[0m\u001b[0;34m:\u001b[0m\u001b[0;34m\u001b[0m\u001b[0;34m\u001b[0m\u001b[0m\n\u001b[1;32m   1738\u001b[0m             \u001b[0;32mreturn\u001b[0m \u001b[0m_set_2dxy_meta\u001b[0m\u001b[0;34m(\u001b[0m\u001b[0mwrapped\u001b[0m\u001b[0;34m,\u001b[0m \u001b[0minstance\u001b[0m\u001b[0;34m,\u001b[0m \u001b[0margs\u001b[0m\u001b[0;34m,\u001b[0m \u001b[0mkwargs\u001b[0m\u001b[0;34m)\u001b[0m\u001b[0;34m\u001b[0m\u001b[0;34m\u001b[0m\u001b[0m\n",
      "\u001b[0;32m/glade/u/ssg/ch/usr/jupyterhub/envs/npl-3.7.9/dav/lib/python3.7/site-packages/wrf_python-1.3.2-py3.7-linux-x86_64.egg/wrf/metadecorators.py\u001b[0m in \u001b[0;36m_set_vinterp_meta\u001b[0;34m(wrapped, instance, args, kwargs)\u001b[0m\n\u001b[1;32m   1402\u001b[0m     \u001b[0mfield_type\u001b[0m \u001b[0;34m=\u001b[0m \u001b[0margvars\u001b[0m\u001b[0;34m[\u001b[0m\u001b[0;34m\"field_type\"\u001b[0m\u001b[0;34m]\u001b[0m\u001b[0;34m\u001b[0m\u001b[0;34m\u001b[0m\u001b[0m\n\u001b[1;32m   1403\u001b[0m \u001b[0;34m\u001b[0m\u001b[0m\n\u001b[0;32m-> 1404\u001b[0;31m     \u001b[0mresult\u001b[0m \u001b[0;34m=\u001b[0m \u001b[0mwrapped\u001b[0m\u001b[0;34m(\u001b[0m\u001b[0;34m*\u001b[0m\u001b[0margs\u001b[0m\u001b[0;34m,\u001b[0m \u001b[0;34m**\u001b[0m\u001b[0mkwargs\u001b[0m\u001b[0;34m)\u001b[0m\u001b[0;34m\u001b[0m\u001b[0;34m\u001b[0m\u001b[0m\n\u001b[0m\u001b[1;32m   1405\u001b[0m \u001b[0;34m\u001b[0m\u001b[0m\n\u001b[1;32m   1406\u001b[0m     \u001b[0;31m# Defaults, in case the data isn't a DataArray\u001b[0m\u001b[0;34m\u001b[0m\u001b[0;34m\u001b[0m\u001b[0;34m\u001b[0m\u001b[0m\n",
      "\u001b[0;32m/glade/u/ssg/ch/usr/jupyterhub/envs/npl-3.7.9/dav/lib/python3.7/site-packages/wrf_python-1.3.2-py3.7-linux-x86_64.egg/wrf/interp.py\u001b[0m in \u001b[0;36mvinterp\u001b[0;34m(wrfin, field, vert_coord, interp_levels, extrapolate, field_type, log_p, timeidx, method, squeeze, cache, meta)\u001b[0m\n\u001b[1;32m    722\u001b[0m \u001b[0;34m\u001b[0m\u001b[0m\n\u001b[1;32m    723\u001b[0m     \u001b[0;31m# Check if field is staggered\u001b[0m\u001b[0;34m\u001b[0m\u001b[0;34m\u001b[0m\u001b[0;34m\u001b[0m\u001b[0m\n\u001b[0;32m--> 724\u001b[0;31m     \u001b[0;32mif\u001b[0m \u001b[0mis_staggered\u001b[0m\u001b[0;34m(\u001b[0m\u001b[0m_wrfin\u001b[0m\u001b[0;34m,\u001b[0m \u001b[0mfield\u001b[0m\u001b[0;34m)\u001b[0m\u001b[0;34m:\u001b[0m\u001b[0;34m\u001b[0m\u001b[0;34m\u001b[0m\u001b[0m\n\u001b[0m\u001b[1;32m    725\u001b[0m         \u001b[0;32mraise\u001b[0m \u001b[0mValueError\u001b[0m\u001b[0;34m(\u001b[0m\u001b[0;34m\"Please unstagger field in the vertical\"\u001b[0m\u001b[0;34m)\u001b[0m\u001b[0;34m\u001b[0m\u001b[0;34m\u001b[0m\u001b[0m\n\u001b[1;32m    726\u001b[0m \u001b[0;34m\u001b[0m\u001b[0m\n",
      "\u001b[0;32m/glade/u/ssg/ch/usr/jupyterhub/envs/npl-3.7.9/dav/lib/python3.7/site-packages/wrf_python-1.3.2-py3.7-linux-x86_64.egg/wrf/util.py\u001b[0m in \u001b[0;36mis_staggered\u001b[0;34m(wrfin, var)\u001b[0m\n\u001b[1;32m   2578\u001b[0m     \u001b[0mwe\u001b[0m \u001b[0;34m=\u001b[0m \u001b[0mextract_dim\u001b[0m\u001b[0;34m(\u001b[0m\u001b[0mwrfin\u001b[0m\u001b[0;34m,\u001b[0m \u001b[0;34m\"west_east\"\u001b[0m\u001b[0;34m)\u001b[0m\u001b[0;34m\u001b[0m\u001b[0;34m\u001b[0m\u001b[0m\n\u001b[1;32m   2579\u001b[0m     \u001b[0msn\u001b[0m \u001b[0;34m=\u001b[0m \u001b[0mextract_dim\u001b[0m\u001b[0;34m(\u001b[0m\u001b[0mwrfin\u001b[0m\u001b[0;34m,\u001b[0m \u001b[0;34m\"south_north\"\u001b[0m\u001b[0;34m)\u001b[0m\u001b[0;34m\u001b[0m\u001b[0;34m\u001b[0m\u001b[0m\n\u001b[0;32m-> 2580\u001b[0;31m     \u001b[0mbt\u001b[0m \u001b[0;34m=\u001b[0m \u001b[0mextract_dim\u001b[0m\u001b[0;34m(\u001b[0m\u001b[0mwrfin\u001b[0m\u001b[0;34m,\u001b[0m \u001b[0;34m\"bottom_top\"\u001b[0m\u001b[0;34m)\u001b[0m\u001b[0;34m\u001b[0m\u001b[0;34m\u001b[0m\u001b[0m\n\u001b[0m\u001b[1;32m   2581\u001b[0m \u001b[0;34m\u001b[0m\u001b[0m\n\u001b[1;32m   2582\u001b[0m     \u001b[0;32mif\u001b[0m \u001b[0;34m(\u001b[0m\u001b[0mvar\u001b[0m\u001b[0;34m.\u001b[0m\u001b[0mshape\u001b[0m\u001b[0;34m[\u001b[0m\u001b[0;34m-\u001b[0m\u001b[0;36m1\u001b[0m\u001b[0;34m]\u001b[0m \u001b[0;34m!=\u001b[0m \u001b[0mwe\u001b[0m \u001b[0;32mor\u001b[0m \u001b[0mvar\u001b[0m\u001b[0;34m.\u001b[0m\u001b[0mshape\u001b[0m\u001b[0;34m[\u001b[0m\u001b[0;34m-\u001b[0m\u001b[0;36m2\u001b[0m\u001b[0;34m]\u001b[0m \u001b[0;34m!=\u001b[0m \u001b[0msn\u001b[0m \u001b[0;32mor\u001b[0m \u001b[0mvar\u001b[0m\u001b[0;34m.\u001b[0m\u001b[0mshape\u001b[0m\u001b[0;34m[\u001b[0m\u001b[0;34m-\u001b[0m\u001b[0;36m3\u001b[0m\u001b[0;34m]\u001b[0m \u001b[0;34m!=\u001b[0m \u001b[0mbt\u001b[0m\u001b[0;34m)\u001b[0m\u001b[0;34m:\u001b[0m\u001b[0;34m\u001b[0m\u001b[0;34m\u001b[0m\u001b[0m\n",
      "\u001b[0;32m/glade/u/ssg/ch/usr/jupyterhub/envs/npl-3.7.9/dav/lib/python3.7/site-packages/wrf_python-1.3.2-py3.7-linux-x86_64.egg/wrf/util.py\u001b[0m in \u001b[0;36mextract_dim\u001b[0;34m(wrfin, dim)\u001b[0m\n\u001b[1;32m    905\u001b[0m             \u001b[0;32mreturn\u001b[0m \u001b[0mextract_dim\u001b[0m\u001b[0;34m(\u001b[0m\u001b[0mentry\u001b[0m\u001b[0;34m,\u001b[0m \u001b[0mdim\u001b[0m\u001b[0;34m)\u001b[0m\u001b[0;34m\u001b[0m\u001b[0;34m\u001b[0m\u001b[0m\n\u001b[1;32m    906\u001b[0m \u001b[0;34m\u001b[0m\u001b[0m\n\u001b[0;32m--> 907\u001b[0;31m     \u001b[0md\u001b[0m \u001b[0;34m=\u001b[0m \u001b[0mwrfin\u001b[0m\u001b[0;34m.\u001b[0m\u001b[0mdimensions\u001b[0m\u001b[0;34m[\u001b[0m\u001b[0mdim\u001b[0m\u001b[0;34m]\u001b[0m\u001b[0;34m\u001b[0m\u001b[0;34m\u001b[0m\u001b[0m\n\u001b[0m\u001b[1;32m    908\u001b[0m     \u001b[0;32mif\u001b[0m \u001b[0;32mnot\u001b[0m \u001b[0misinstance\u001b[0m\u001b[0;34m(\u001b[0m\u001b[0md\u001b[0m\u001b[0;34m,\u001b[0m \u001b[0mint\u001b[0m\u001b[0;34m)\u001b[0m\u001b[0;34m:\u001b[0m\u001b[0;34m\u001b[0m\u001b[0;34m\u001b[0m\u001b[0m\n\u001b[1;32m    909\u001b[0m         \u001b[0;32mtry\u001b[0m\u001b[0;34m:\u001b[0m\u001b[0;34m\u001b[0m\u001b[0;34m\u001b[0m\u001b[0m\n",
      "\u001b[0;31mKeyError\u001b[0m: 'bottom_top'"
     ]
    }
   ],
   "source": [
    "# wrf_dbz = Dataset('/glade/scratch/hungjui/DATA_WRF_CONUS_1_dBZ_v1.0/CTRL3D/20130913/wrf3d_d01_dbz_2013091300.nc')\n",
    "# wrf_z = Dataset('/gpfs/fs1/collections/rda/data/ds612.0/CTRL3D/2013/wrf3d_d01_CTRL_Z_20130913.nc')\n",
    "# interp_levels = [2500]\n",
    "# interp_field = vinterp(wrf_z,\n",
    "#                        field=getvar(wrf_dbz, 'dBZ', meta=False),\n",
    "#                        vert_coord='ght_msl',\n",
    "#                        interp_levels=interp_levels,\n",
    "#                        extrapolate=False,\n",
    "#                        field_type='none',\n",
    "#                        log_p=False,\n",
    "#                        timeidx=0,\n",
    "#                       )"
   ]
  },
  {
   "cell_type": "markdown",
   "id": "fac639f9-67db-4feb-a209-4e4e4bfec135",
   "metadata": {},
   "source": [
    "**Calculation for dBZ:**"
   ]
  },
  {
   "cell_type": "code",
   "execution_count": 4,
   "id": "d2abb3d6-03c9-4614-a8c6-25962e6cf363",
   "metadata": {},
   "outputs": [],
   "source": [
    "def calculate_wrf_dbz(wrf_pres, wrf_temp, wrf_qv, wrf_qr, wrf_qs, wrf_qg):\n",
    "    \n",
    "    wrf_dbz = dbz(wrf_pres \\\n",
    "                , wrf_temp \\\n",
    "                , wrf_qv \\\n",
    "                , wrf_qr \\\n",
    "                , wrf_qs \\\n",
    "                , wrf_qg \\\n",
    "                # , use_varint=True \\\n",
    "                , use_liqskin=False \\\n",
    "                , meta=True \\\n",
    "                 )\n",
    "    \n",
    "    return wrf_dbz"
   ]
  },
  {
   "cell_type": "markdown",
   "id": "200f51dc-7717-47e4-bcda-c66574c92d70",
   "metadata": {},
   "source": [
    "**Set output file path and name:**"
   ]
  },
  {
   "cell_type": "code",
   "execution_count": 5,
   "id": "7511720e-d0c5-4065-b9db-40eb9467791e",
   "metadata": {},
   "outputs": [],
   "source": [
    "def set_output_name(output_file_datetime):\n",
    "\n",
    "    # output_path = '/glade/u/home/hungjui/2scratch/DATA_WRF_CONUS_1_dBZ_v1.0'\n",
    "    \n",
    "    output_time = pd.to_datetime(output_file_datetime).strftime('%Y%m%d') # If input time type is numpy.datetime64:\n",
    "    \n",
    "    # output_name = output_path + '/wrf3d_d01_dbz_{}.nc'.format(file_date_time.strftime('%Y%m%d%H'))\n",
    "    # output_name = output_path + '/wrf3d_d01_dbz_{}.nc'.format(output_time)\n",
    "    output_name = '/wrf3d_d01_' + wrf_sim_type[0:-2] + '_dbz_{}.nc'.format(output_time)\n",
    "\n",
    "    return output_name\n"
   ]
  },
  {
   "cell_type": "markdown",
   "id": "77a356da-81e0-4462-95b7-6814886ba254",
   "metadata": {},
   "source": [
    "### Main Function:"
   ]
  },
  {
   "cell_type": "code",
   "execution_count": 6,
   "id": "b272ee31-b09e-4612-b587-a76bcee7ca80",
   "metadata": {},
   "outputs": [],
   "source": [
    "def main_function(file_date_time):\n",
    "    \n",
    "    ## Set file datetime:\n",
    "    # file_date_time = dt.datetime(2013, 9, 13, 0, 0, 0, tzinfo=pytz.utc)\n",
    "    print('Processing: {}'.format(file_date_time.strftime('%Y%m%d')), end=' ')\n",
    "    \n",
    "    ## Set input files paths and names:\n",
    "    file_name_dict = set_input_names(file_date_time)\n",
    "\n",
    "    ## Get the 3-hourly time list from P and QRAIN files:\n",
    "    wrf_3hour_list_1 = wrf.extract_times(Dataset(file_name_dict['P']), timeidx=wrf.ALL_TIMES, meta=False, do_xtime=False)\n",
    "    wrf_3hour_list_2 = wrf.extract_times(Dataset(file_name_dict['QRAIN']), timeidx=wrf.ALL_TIMES, meta=False, do_xtime=False)\n",
    "\n",
    "    ## Set wrf variable list for reflectivity retrieval:\n",
    "    wrf_vars_list = ['P', 'TK', 'QVAPOR', 'QRAIN', 'QSNOW', 'QGRAUP']\n",
    "\n",
    "    ## Set dBZ data array and append calculated data:\n",
    "    # wrf_dbz = xr.zeros_like(wrf_dataset_out['P'])\n",
    "    \n",
    "    for hi in range(len(wrf_3hour_list_1)):\n",
    "        \n",
    "        print(str(hi) + ' | ', end=' ')\n",
    "\n",
    "        ## Get the index for common time in different files (every 3-hour):\n",
    "        common_index_2 = np.intersect1d(wrf_3hour_list_1[hi], wrf_3hour_list_2, return_indices=True)[2][0]\n",
    "\n",
    "        ## Get wrf output variables:\n",
    "        wrf_vars = {}\n",
    "        for vname in wrf_vars_list:\n",
    "\n",
    "            file_name = file_name_dict[vname]\n",
    "\n",
    "            if ( vname in ['QRAIN', 'QGRAUP'] ):\n",
    "                wrf_vars['{}'.format(vname)] = get_wrf_vars(file_name, vname, common_index_2)\n",
    "                # wrf_vars['{}'.format(vname)] = xr.open_dataset(file_name)\n",
    "            else:\n",
    "                wrf_vars['{}'.format(vname)] = get_wrf_vars(file_name, vname, hi)\n",
    "                # wrf_vars['{}'.format(vname)] = xr.open_dataset(file_name)\n",
    "\n",
    "\n",
    "        ## Calculation for dBZ:\n",
    "        wrf_dbz_3hr = calculate_wrf_dbz(wrf_vars['P'],\n",
    "                                        wrf_vars['TK'], \n",
    "                                        wrf_vars['QVAPOR'],\n",
    "                                        wrf_vars['QRAIN'],\n",
    "                                        wrf_vars['QSNOW'],\n",
    "                                        wrf_vars['QGRAUP']\n",
    "                                        ) # .to_dataset()\n",
    "        \n",
    "        # wrf_dbz_3hr = wrf_dbz_3hr.expand_dims({'TimeDim': 8})\n",
    "        # print(wrf_dbz_3hr)\n",
    "        \n",
    "        if ( hi == 0 ):\n",
    "            wrf_dbz = wrf_dbz_3hr\n",
    "        else:\n",
    "            wrf_dbz = xr.concat([wrf_dbz, wrf_dbz_3hr], dim='TimeDim')\n",
    "\n",
    "    # print(wrf_dbz)\n",
    "            \n",
    "    ## Set output dataset:\n",
    "    wrf_dataset_out = xr.open_dataset(file_name_dict['P'])    \n",
    "      \n",
    "    ## Add dBZ to output dataset:\n",
    "    wrf_dataset_out['dBZ'] = (['Time', 'bottom_top', 'south_north', 'west_east'], wrf_dbz)\n",
    "    #print(wrf_dataset_out)\n",
    "    \n",
    "    ## Drop P from the output dataset:\n",
    "    wrf_dataset_out = wrf_dataset_out.drop_vars('P')\n",
    "            \n",
    "    ## Unstagger Z vertical grids:\n",
    "    # wrf_var_Z_unstag = wrf.destagger(getvar(Dataset(file_name_dict['Z']), 'Z', timeidx=hi, meta=False), 0)\n",
    "\n",
    "    ## Get AGL:\n",
    "    # wrf_var_Z_AGL = wrf.g_geoht.get_height_agl(Dataset(file_name_dict['Z']), 'Z', meta=False)\n",
    "\n",
    "    ## Add Z and dBZ into dataset of P:\n",
    "    # wrf_dataset_P_Z_dBZ = xr.open_dataset(file_name_dict['P']).isel(Time = hi)\n",
    "    # wrf_dataset_out = xr.open_dataset(file_name_dict['P'])\n",
    "    # wrf_dataset_out['dBZ'] = (['bottom_top', 'south_north', 'west_east'], wrf_dbz)\n",
    "    \n",
    "    # wrf_dataset_P_Z_dBZ['TK'] = (['bottom_top', 'south_north', 'west_east'], wrf_vars['TK'])\n",
    "    # wrf_dataset_P_Z_dBZ['Z'] = (['bottom_top', 'south_north', 'west_east'], wrf_var_Z_unstag)\n",
    "        \n",
    "    ## Calculate Z using the U.S. standard atmosphere & Hypsometric eqn.:\n",
    "    # Z_standard = mpcalc.pressure_to_height_std((wrf_dataset_P_Z_dBZ['P'].values) * units.units.Pa)\n",
    "    # wrf_dataset_P_Z_dBZ['Z_standard'] = (['bottom_top', 'south_north', 'west_east'], Z_standard)\n",
    "\n",
    "    ## Set coordinates and dimensions:\n",
    "\n",
    "    ## Set output file path and name:\n",
    "    output_path_1 = '/glade/u/home/hungjui/2scratch/DATA_WRF_CONUS_1_dBZ_v1.0/' + wrf_sim_type\n",
    "    # output_path_2 = '/20130913'\n",
    "    output_path_2 = '/{}'.format(file_date_time.strftime('%Y'))\n",
    "    output_file_name = set_output_name(file_date_time)\n",
    "    wrf_dataset_out.to_netcdf(output_path_1 + output_path_2 + output_file_name)\n",
    "        \n",
    "    print('Finish this date.')\n",
    "        "
   ]
  },
  {
   "cell_type": "markdown",
   "id": "fc087e98-3db1-4f8e-9ee7-994dfc6c2e7e",
   "metadata": {},
   "source": [
    "### Main Program:"
   ]
  },
  {
   "cell_type": "code",
   "execution_count": 7,
   "id": "cf47bd92-5581-4af6-8e58-f72e49f4e50c",
   "metadata": {},
   "outputs": [
    {
     "name": "stdout",
     "output_type": "stream",
     "text": [
      "Processing: 20051227 0 |  1 |  2 |  3 |  4 |  5 |  6 |  7 |  Finish this date.\n",
      "Processing: 20051228 0 |  1 |  2 |  3 |  4 |  5 |  6 |  7 |  Finish this date.\n",
      "Processing: 20051229 0 |  1 |  2 |  3 |  4 |  5 |  6 |  7 |  Finish this date.\n",
      "Processing: 20051230 0 |  1 |  2 |  3 |  4 |  5 |  6 |  7 |  Finish this date.\n",
      "Processing: 20051231 0 |  1 |  2 |  3 |  4 |  5 |  6 |  7 |  Finish this date.\n",
      "RUNTIME：1141.574093 SEC\n",
      "RUNTIME：19.026235 MIN\n",
      "RUNTIME：0.317104 HOUR\n"
     ]
    }
   ],
   "source": [
    "start = time.time()\n",
    "\n",
    "## WRF Model Simulation Category:\n",
    "wrf_sim_type = 'CTRL3D'\n",
    "# wrf_sim_type = 'PGW3D'\n",
    "\n",
    "## Loop through a period:\n",
    "target_date_range = pd.date_range(start='2005-12-27', end='2005-12-31', tz=pytz.utc)\n",
    "\n",
    "for dayi in target_date_range:\n",
    "    \n",
    "    main_function(dayi)\n",
    "    #main_calc = delayed(main_function)(dayi)\n",
    "    \n",
    "# main_calc.compute()\n",
    "# main_calc.visualize()\n",
    "\n",
    "end = time.time()\n",
    "print(\"RUNTIME：%f SEC\" % (end - start))\n",
    "print(\"RUNTIME：%f MIN\" % ((end - start)/60))\n",
    "print(\"RUNTIME：%f HOUR\" % ((end - start)/3600))"
   ]
  },
  {
   "cell_type": "code",
   "execution_count": 73,
   "id": "689c4e20-46d1-4459-8d88-b906999deee9",
   "metadata": {},
   "outputs": [
    {
     "name": "stdin",
     "output_type": "stream",
     "text": [
      "Once deleted, variables cannot be recovered. Proceed (y/[n])?  y\n"
     ]
    }
   ],
   "source": [
    "%reset"
   ]
  },
  {
   "cell_type": "code",
   "execution_count": null,
   "id": "e464604e-9068-4b01-b4f3-d462bbfec819",
   "metadata": {},
   "outputs": [],
   "source": []
  }
 ],
 "metadata": {
  "kernelspec": {
   "display_name": "NPL-3.7.9",
   "language": "python",
   "name": "npl-3.7.9"
  },
  "language_info": {
   "codemirror_mode": {
    "name": "ipython",
    "version": 3
   },
   "file_extension": ".py",
   "mimetype": "text/x-python",
   "name": "python",
   "nbconvert_exporter": "python",
   "pygments_lexer": "ipython3",
   "version": "3.7.9"
  }
 },
 "nbformat": 4,
 "nbformat_minor": 5
}
