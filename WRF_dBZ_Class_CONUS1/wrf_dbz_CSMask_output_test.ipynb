{
 "cells": [
  {
   "cell_type": "markdown",
   "id": "869fb837-0d1f-4790-9318-8aff52b75ef9",
   "metadata": {},
   "source": [
    "## Convective/Stratiform identification for 3D Reflectivity from derived dBZ of WRF Simulations. \n",
    "\n",
    "**Output the Convective/Stratiform (C/S) Mask information to CONUS dBZ data.**\n",
    "\n",
    "**For [High Resolution WRF Simulations of the Current and Future Climate of North America](https://rda.ucar.edu/datasets/ds612.0/).**\n",
    "\n",
    "**Hungjui Yu 20211022**"
   ]
  },
  {
   "cell_type": "code",
   "execution_count": 176,
   "id": "70de2b4e-ad2a-429f-ad4d-c27561e36fad",
   "metadata": {},
   "outputs": [],
   "source": [
    "import sys\n",
    "# from shutil import copyfile\n",
    "import time\n",
    "import datetime as dt\n",
    "import pytz\n",
    "from netCDF4 import (Dataset, MFDataset)\n",
    "import numpy as np\n",
    "# from scipy.interpolate import interpn\n",
    "import xarray as xr\n",
    "import pandas as pd\n",
    "import wrf\n",
    "# from wrf import (getvar, vinterp, interplevel, extract_times, destagger, to_np, latlon_coords, get_cartopy,\n",
    "#                  cartopy_xlim, cartopy_ylim)\n",
    "\n",
    "# import cartopy.crs as ccrs\n",
    "# from cartopy.feature import NaturalEarthFeature\n",
    "# import matplotlib as mpl\n",
    "# import matplotlib.pyplot as plt\n",
    "\n",
    "import conv_stra_sep as cs_sep"
   ]
  },
  {
   "cell_type": "markdown",
   "id": "1cc002f5-0b9b-4623-9125-4bbc79e62cb1",
   "metadata": {},
   "source": [
    "**Set input files paths and names:**"
   ]
  },
  {
   "cell_type": "code",
   "execution_count": 177,
   "id": "f1ab40b2-64cb-4afa-a31e-27ffe4a06475",
   "metadata": {},
   "outputs": [],
   "source": [
    "def set_input_names(file_date):\n",
    "\n",
    "    file_path_1_conus = '/gpfs/fs1/collections/rda/data/ds612.0'\n",
    "    file_path_1_dbz = '/glade/scratch/hungjui/DATA_WRF_CONUS_1_dBZ_v1.0'\n",
    "    file_path_2 = '/' + wrf_sim_type # '/CTRL3D'\n",
    "    file_path_3 = '/{}'.format(file_date.strftime('%Y'))\n",
    "\n",
    "    file_names = dict( dbz = file_path_1_dbz\n",
    "                           + file_path_2 \n",
    "                           + '/20130913'# file_path_3 \n",
    "                           + '/wrf3d_d01_' + wrf_sim_type[0:-2] + '_dbz_{}.nc'.format(file_date.strftime('%Y%m%d'))\n",
    "                       # , Z = file_path_1 \n",
    "                       #     + file_path_2 \n",
    "                       #     + file_path_3 \n",
    "                       #     + '/wrf3d_d01_' + wrf_sim_type[0:-2] + '_Z_{}.nc'.format(file_date.strftime('%Y%m%d'))\n",
    "                     )\n",
    "    \n",
    "    return file_names"
   ]
  },
  {
   "cell_type": "markdown",
   "id": "75677bd1-dd53-408c-be0d-c8e284ee9652",
   "metadata": {},
   "source": [
    "**Function: Convective/Stratiform separation:**"
   ]
  },
  {
   "cell_type": "code",
   "execution_count": 178,
   "id": "184f6d7d-f88a-447f-b1b8-c498f04a1320",
   "metadata": {},
   "outputs": [],
   "source": [
    "def CS_separation(refl, lat, lon):\n",
    "\n",
    "    ## Make sure the array for the masking is in numpy array format (speed issue):\n",
    "    # refl = dbz_sigmalev.data\n",
    "    # lat = np.array(dbz_sigmalev.XLAT)\n",
    "    # lon = np.array(dbz_sigmalev.XLONG)\n",
    "\n",
    "    # start = time.time()\n",
    "\n",
    "    ## Convective/Stratiform separation:\n",
    "    cs, cc, bkgnd = cs_sep.conv_stra_sep(refl, lat, lon)\n",
    "\n",
    "    # end = time.time()\n",
    "    # print(\"RUNTIME：%f SEC\" % (end - start))\n",
    "    # print(\"RUNTIME：%f MIN\" % ((end - start)/60))\n",
    "    # print(\"RUNTIME：%f HOUR\" % ((end - start)/3600))\n",
    "    \n",
    "    cs[np.where(refl <= 0.0)] = np.nan\n",
    "    cs[np.where(np.isnan(refl))] = -1\n",
    "    \n",
    "    return cs"
   ]
  },
  {
   "cell_type": "markdown",
   "id": "77a356da-81e0-4462-95b7-6814886ba254",
   "metadata": {},
   "source": [
    "### Main Function:"
   ]
  },
  {
   "cell_type": "code",
   "execution_count": 179,
   "id": "650a17a6-11f4-4833-b901-7559cec8dbc1",
   "metadata": {},
   "outputs": [],
   "source": [
    "def main_function(file_date_time):\n",
    "    \n",
    "    ## Set file datetime:\n",
    "    # file_date_time = dt.datetime(2013, 9, 13, 0, 0, 0, tzinfo=pytz.utc)\n",
    "    print('Processing: {}'.format(file_date_time.strftime('%Y%m%d')), end=': ')\n",
    "    \n",
    "    ## Set input files paths and names:\n",
    "    file_name_dict = set_input_names(file_date_time)\n",
    "\n",
    "    ## Get the 3-hourly time list:\n",
    "    nc_wrf_dbz = Dataset(file_name_dict['dbz'], mode='r')\n",
    "    wrf_3hour_list = wrf.extract_times(nc_wrf_dbz, timeidx=wrf.ALL_TIMES, meta=False, do_xtime=False)\n",
    "    nc_wrf_dbz.close()\n",
    "    \n",
    "    ## Open dBZ data array and append calculated data:\n",
    "    ds_wrf_dbz = xr.open_dataset(file_name_dict['dbz'])\n",
    "    \n",
    "    ## Set sigma level index:\n",
    "    interp_vertical_lev = 12 # number in levels.\n",
    "    \n",
    "    for hi in range(len(wrf_3hour_list)):\n",
    "        \n",
    "        print(str(hi) + ' | ', end=' ')\n",
    "\n",
    "        ## Get dBZ data:\n",
    "        da_wrf_dbz = ds_wrf_dbz['dBZ'].isel(Time=hi)\n",
    "        \n",
    "        ## Get dBZ data at specified sigma level:\n",
    "        dbz_sigmalev = da_wrf_dbz[interp_vertical_lev,:,:]\n",
    "        \n",
    "        ## Convective/Stratiform Separation:\n",
    "        ## !!! Make sure the array for the masking is in numpy array format (speed issue) !!!\n",
    "        CS_mask_single = CS_separation( dbz_sigmalev.data\n",
    "                                      , np.array(dbz_sigmalev.XLAT)\n",
    "                                      , np.array(dbz_sigmalev.XLONG)\n",
    "                                      )\n",
    "        \n",
    "        ## Stack the CS mask according to hours:\n",
    "        if ( hi == 0 ):\n",
    "            # CS_mask = CS_mask_single\n",
    "            CS_mask = np.expand_dims(CS_mask_single, axis=0)\n",
    "        else:\n",
    "            # CS_mask = xr.concat([CS_mask, CS_mask_single], dim='TimeDim')\n",
    "            CS_mask = np.append(CS_mask, np.expand_dims(CS_mask_single, axis=0), axis=0)\n",
    "            \n",
    "        # print(type(CS_mask))\n",
    "        # print(CS_mask.shape)\n",
    "\n",
    "        \n",
    "    ## Add CS mask to dBZ dataset:\n",
    "    ds_wrf_dbz['CS_mask'] = (['Time', 'south_north', 'west_east'], CS_mask)\n",
    "    \n",
    "    ds_wrf_dbz.close()\n",
    "    \n",
    "    return ds_wrf_dbz\n",
    "    \n",
    "    ## Add CS mask to dBZ netcdf file directly:\n",
    "    # nc_wrf_dbz = Dataset(file_name_dict['dbz'], mode='a')\n",
    "\n"
   ]
  },
  {
   "cell_type": "markdown",
   "id": "fc087e98-3db1-4f8e-9ee7-994dfc6c2e7e",
   "metadata": {},
   "source": [
    "### Main Program:"
   ]
  },
  {
   "cell_type": "code",
   "execution_count": 180,
   "id": "72815f7e-3b87-4c09-91d1-34614c269e7a",
   "metadata": {},
   "outputs": [
    {
     "name": "stdout",
     "output_type": "stream",
     "text": [
      "Processing: 20130913: 0 |  1 |  2 |  3 |  4 |  5 |  6 |  7 |  "
     ]
    }
   ],
   "source": [
    "start = time.time()\n",
    "\n",
    "\n",
    "## WRF Model Simulation Category:\n",
    "wrf_sim_type = 'CTRL3D'\n",
    "# wrf_sim_type = 'PGW3D'\n",
    "\n",
    "## Loop through a period:\n",
    "target_date_range = pd.date_range(start='2013-9-13', end='2013-9-13', tz=pytz.utc)\n",
    "\n",
    "for dayi in target_date_range:\n",
    "    \n",
    "    ds_wrf_dbz = main_function(dayi)\n",
    "    \n",
    "    ## Set output file path and name:\n",
    "    output_path_1 = '/glade/u/home/hungjui/2scratch/DATA_WRF_CONUS_1_dBZ_v1.0/' + wrf_sim_type\n",
    "    output_path_2 = '/20130913'\n",
    "    # output_path_2 = '/{}'.format(file_date_time.strftime('%Y'))\n",
    "    # output_file_name = '/wrf3d_d01_CTRL_dbz_CSmask_20130913.nc'\n",
    "    output_file_name = '/wrf3d_d01_CTRL_dbz_20130913.nc'\n",
    "    # output_file_name = set_output_name(file_date_time)\n",
    "    ds_wrf_dbz.to_netcdf(output_path_1 + output_path_2 + output_file_name, 'a')\n",
    "\n",
    "    \n",
    "end = time.time()\n",
    "\n",
    "print(\"RUNTIME：%f SEC\" % (end - start))\n",
    "print(\"RUNTIME：%f MIN\" % ((end - start)/60))\n",
    "print(\"RUNTIME：%f HOUR\" % ((end - start)/3600))\n",
    "    "
   ]
  },
  {
   "cell_type": "code",
   "execution_count": 175,
   "id": "689c4e20-46d1-4459-8d88-b906999deee9",
   "metadata": {},
   "outputs": [
    {
     "name": "stdin",
     "output_type": "stream",
     "text": [
      "Once deleted, variables cannot be recovered. Proceed (y/[n])?  y\n"
     ]
    }
   ],
   "source": [
    "%reset"
   ]
  },
  {
   "cell_type": "markdown",
   "id": "02242753-fdbe-4aee-8118-749c04a9f8c7",
   "metadata": {},
   "source": [
    "<font color='teal'>**Supplement Codes:**</font>"
   ]
  },
  {
   "cell_type": "code",
   "execution_count": 115,
   "id": "7b6753ca-b044-4675-85a3-4bae42cddd1d",
   "metadata": {},
   "outputs": [],
   "source": [
    "# from netCDF4 import (Dataset, MFDataset)\n",
    "# nc_wrf_dbz = Dataset( '/glade/scratch/hungjui/DATA_WRF_CONUS_1_dBZ_v1.0/CTRL3D/20130913/wrf3d_d01_CTRL_dbz_20130913.nc'\n",
    "#                     , mode='a')\n",
    "# # nc_wrf_dbz.createDimension('test_dim', 1)\n",
    "# print(nc_wrf_dbz)\n",
    "# nc_wrf_dbz.close()"
   ]
  },
  {
   "cell_type": "code",
   "execution_count": null,
   "id": "246d9fe8-519e-4932-aeb9-b9f80a550176",
   "metadata": {},
   "outputs": [],
   "source": []
  }
 ],
 "metadata": {
  "kernelspec": {
   "display_name": "NPL-3.7.9",
   "language": "python",
   "name": "npl-3.7.9"
  },
  "language_info": {
   "codemirror_mode": {
    "name": "ipython",
    "version": 3
   },
   "file_extension": ".py",
   "mimetype": "text/x-python",
   "name": "python",
   "nbconvert_exporter": "python",
   "pygments_lexer": "ipython3",
   "version": "3.7.9"
  }
 },
 "nbformat": 4,
 "nbformat_minor": 5
}
